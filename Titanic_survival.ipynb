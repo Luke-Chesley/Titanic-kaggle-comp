{
 "cells": [
  {
   "cell_type": "markdown",
   "id": "36e916c2-bba9-4df6-82a8-cf37a8803940",
   "metadata": {},
   "source": [
    "# Imports"
   ]
  },
  {
   "cell_type": "code",
   "execution_count": 41,
   "id": "f2b40896-fae5-429f-b13a-94c1119fd92d",
   "metadata": {
    "tags": []
   },
   "outputs": [
    {
     "name": "stdout",
     "output_type": "stream",
     "text": [
      "The lab_black extension is already loaded. To reload it, use:\n",
      "  %reload_ext lab_black\n"
     ]
    }
   ],
   "source": [
    "import pandas as pd\n",
    "import numpy as np\n",
    "import opendatasets as od\n",
    "import seaborn as sns\n",
    "\n",
    "import matplotlib.pyplot as plt\n",
    "from mpl_toolkits.mplot3d import Axes3D\n",
    "from mpl_toolkits import mplot3d\n",
    "\n",
    "# plt.close(\"all\")\n",
    "\n",
    "import seaborn as sns\n",
    "from tqdm import tqdm\n",
    "\n",
    "from itertools import combinations\n",
    "\n",
    "from flaml import AutoML\n",
    "\n",
    "%matplotlib widget\n",
    "%matplotlib inline\n",
    "\n",
    "import scipy.stats\n",
    "\n",
    "from sklearn.model_selection import train_test_split\n",
    "from sklearn.decomposition import PCA\n",
    "from sklearn.preprocessing import StandardScaler\n",
    "from sklearn import cluster\n",
    "from sklearn.metrics import confusion_matrix\n",
    "from sklearn.metrics import accuracy_score\n",
    "from sklearn.neighbors import KNeighborsClassifier\n",
    "from sklearn.ensemble import RandomForestClassifier\n",
    "from sklearn.feature_selection import SelectKBest, chi2, f_classif\n",
    "from sklearn.metrics import classification_report\n",
    "from sklearn.ensemble import VotingClassifier\n",
    "\n",
    "\n",
    "pd.set_option(\"display.max_columns\", 500)\n",
    "plt.style.use(\"dark_background\")\n",
    "\n",
    "%load_ext lab_black"
   ]
  },
  {
   "cell_type": "markdown",
   "id": "85a29aaf-36da-4698-82ce-0ead9a040e17",
   "metadata": {
    "jp-MarkdownHeadingCollapsed": true,
    "tags": []
   },
   "source": [
    "# Import Data"
   ]
  },
  {
   "cell_type": "code",
   "execution_count": 42,
   "id": "3ba26bea-82ae-4999-98b1-c1c4c6b7691b",
   "metadata": {
    "tags": []
   },
   "outputs": [
    {
     "name": "stdout",
     "output_type": "stream",
     "text": [
      "Please provide your Kaggle credentials to download this dataset. Learn more: http://bit.ly/kaggle-creds\n",
      "Your Kaggle username:"
     ]
    },
    {
     "name": "stdin",
     "output_type": "stream",
     "text": [
      "  d\n"
     ]
    },
    {
     "name": "stdout",
     "output_type": "stream",
     "text": [
      "Your Kaggle Key:"
     ]
    },
    {
     "name": "stdin",
     "output_type": "stream",
     "text": [
      "  ········\n"
     ]
    },
    {
     "ename": "ApiException",
     "evalue": "(401)\nReason: Unauthorized\nHTTP response headers: HTTPHeaderDict({'Content-Length': '0', 'Date': 'Mon, 27 Mar 2023 15:35:31 GMT', 'Access-Control-Allow-Credentials': 'true', 'Set-Cookie': 'ka_sessionid=6f9de378421340914f1849e338508edd; max-age=2626560; path=/, GCLB=CNeY8-ui4_OSBA; path=/; HttpOnly', 'Turbolinks-Location': 'https://www.kaggle.com/api/v1/competitions/data/download-all/titanic', 'Strict-Transport-Security': 'max-age=63072000; includeSubDomains; preload', 'Content-Security-Policy': \"object-src 'none'; script-src 'nonce-VXfoO9UfZRfU4uxEVTBM+Q==' 'report-sample' 'unsafe-inline' 'unsafe-eval' 'strict-dynamic' https: http:; frame-src 'self' https://www.kaggleusercontent.com https://www.youtube.com/embed/ https://polygraph-cool.github.io https://www.google.com/recaptcha/ https://form.jotform.com https://submit.jotform.us https://submit.jotformpro.com https://submit.jotform.com https://www.docdroid.com https://www.docdroid.net https://kaggle-static.storage.googleapis.com https://kaggle-static-staging.storage.googleapis.com https://kkb-dev.jupyter-proxy.kaggle.net https://kkb-staging.jupyter-proxy.kaggle.net https://kkb-production.jupyter-proxy.kaggle.net https://kkb-dev.firebaseapp.com https://kkb-staging.firebaseapp.com https://kkb-production.firebaseapp.com https://kaggle-metastore-test.firebaseapp.com https://kaggle-metastore.firebaseapp.com https://apis.google.com https://content-sheets.googleapis.com/ https://accounts.google.com/ https://storage.googleapis.com https://docs.google.com https://drive.google.com https://calendar.google.com/; base-uri 'none'; report-uri https://csp.withgoogle.com/csp/kaggle/20201130;\", 'X-Content-Type-Options': 'nosniff', 'Referrer-Policy': 'strict-origin-when-cross-origin', 'Via': '1.1 google', 'Alt-Svc': 'h3=\":443\"; ma=2592000,h3-29=\":443\"; ma=2592000'})\n",
     "output_type": "error",
     "traceback": [
      "\u001b[0;31m---------------------------------------------------------------------------\u001b[0m",
      "\u001b[0;31mApiException\u001b[0m                              Traceback (most recent call last)",
      "Cell \u001b[0;32mIn[42], line 1\u001b[0m\n\u001b[0;32m----> 1\u001b[0m \u001b[43mod\u001b[49m\u001b[38;5;241;43m.\u001b[39;49m\u001b[43mdownload\u001b[49m\u001b[43m(\u001b[49m\u001b[38;5;124;43m\"\u001b[39;49m\u001b[38;5;124;43mhttps://www.kaggle.com/competitions/titanic/data?select=train.csv\u001b[39;49m\u001b[38;5;124;43m\"\u001b[39;49m\u001b[43m)\u001b[49m\n",
      "File \u001b[0;32m~/.local/lib/python3.10/site-packages/opendatasets/__init__.py:13\u001b[0m, in \u001b[0;36mdownload\u001b[0;34m(dataset_id_or_url, data_dir, force, dry_run, **kwargs)\u001b[0m\n\u001b[1;32m     10\u001b[0m \u001b[38;5;28;01mdef\u001b[39;00m \u001b[38;5;21mdownload\u001b[39m(dataset_id_or_url, data_dir\u001b[38;5;241m=\u001b[39m\u001b[38;5;124m'\u001b[39m\u001b[38;5;124m.\u001b[39m\u001b[38;5;124m'\u001b[39m, force\u001b[38;5;241m=\u001b[39m\u001b[38;5;28;01mFalse\u001b[39;00m, dry_run\u001b[38;5;241m=\u001b[39m\u001b[38;5;28;01mFalse\u001b[39;00m, \u001b[38;5;241m*\u001b[39m\u001b[38;5;241m*\u001b[39mkwargs):\n\u001b[1;32m     11\u001b[0m     \u001b[38;5;66;03m# Check for a Kaggle dataset URL\u001b[39;00m\n\u001b[1;32m     12\u001b[0m     \u001b[38;5;28;01mif\u001b[39;00m is_kaggle_url(dataset_id_or_url):\n\u001b[0;32m---> 13\u001b[0m         \u001b[38;5;28;01mreturn\u001b[39;00m \u001b[43mdownload_kaggle_dataset\u001b[49m\u001b[43m(\u001b[49m\u001b[43mdataset_id_or_url\u001b[49m\u001b[43m,\u001b[49m\u001b[43m \u001b[49m\u001b[43mdata_dir\u001b[49m\u001b[38;5;241;43m=\u001b[39;49m\u001b[43mdata_dir\u001b[49m\u001b[43m,\u001b[49m\u001b[43m \u001b[49m\u001b[43mforce\u001b[49m\u001b[38;5;241;43m=\u001b[39;49m\u001b[43mforce\u001b[49m\u001b[43m,\u001b[49m\u001b[43m \u001b[49m\u001b[43mdry_run\u001b[49m\u001b[38;5;241;43m=\u001b[39;49m\u001b[43mdry_run\u001b[49m\u001b[43m)\u001b[49m\n\u001b[1;32m     15\u001b[0m     \u001b[38;5;66;03m# Check for Google Drive URL\u001b[39;00m\n\u001b[1;32m     16\u001b[0m     \u001b[38;5;28;01mif\u001b[39;00m is_google_drive_url(dataset_id_or_url):\n",
      "File \u001b[0;32m~/.local/lib/python3.10/site-packages/opendatasets/utils/kaggle_api.py:53\u001b[0m, in \u001b[0;36mdownload_kaggle_dataset\u001b[0;34m(dataset_url, data_dir, force, dry_run)\u001b[0m\n\u001b[1;32m     51\u001b[0m api\u001b[38;5;241m.\u001b[39mauthenticate()\n\u001b[1;32m     52\u001b[0m \u001b[38;5;28;01mif\u001b[39;00m dataset_id\u001b[38;5;241m.\u001b[39msplit(\u001b[38;5;124m'\u001b[39m\u001b[38;5;124m/\u001b[39m\u001b[38;5;124m'\u001b[39m)[\u001b[38;5;241m0\u001b[39m] \u001b[38;5;241m==\u001b[39m \u001b[38;5;124m'\u001b[39m\u001b[38;5;124mcompetitions\u001b[39m\u001b[38;5;124m'\u001b[39m \u001b[38;5;129;01mor\u001b[39;00m dataset_id\u001b[38;5;241m.\u001b[39msplit(\u001b[38;5;124m'\u001b[39m\u001b[38;5;124m/\u001b[39m\u001b[38;5;124m'\u001b[39m)[\u001b[38;5;241m0\u001b[39m] \u001b[38;5;241m==\u001b[39m \u001b[38;5;124m'\u001b[39m\u001b[38;5;124mc\u001b[39m\u001b[38;5;124m'\u001b[39m:\n\u001b[0;32m---> 53\u001b[0m     \u001b[43mapi\u001b[49m\u001b[38;5;241;43m.\u001b[39;49m\u001b[43mcompetition_download_files\u001b[49m\u001b[43m(\u001b[49m\n\u001b[1;32m     54\u001b[0m \u001b[43m        \u001b[49m\u001b[38;5;28;43mid\u001b[39;49m\u001b[43m,\u001b[49m\n\u001b[1;32m     55\u001b[0m \u001b[43m        \u001b[49m\u001b[43mtarget_dir\u001b[49m\u001b[43m,\u001b[49m\n\u001b[1;32m     56\u001b[0m \u001b[43m        \u001b[49m\u001b[43mforce\u001b[49m\u001b[38;5;241;43m=\u001b[39;49m\u001b[43mforce\u001b[49m\u001b[43m,\u001b[49m\n\u001b[1;32m     57\u001b[0m \u001b[43m        \u001b[49m\u001b[43mquiet\u001b[49m\u001b[38;5;241;43m=\u001b[39;49m\u001b[38;5;28;43;01mFalse\u001b[39;49;00m\u001b[43m)\u001b[49m\n\u001b[1;32m     58\u001b[0m     zip_fname \u001b[38;5;241m=\u001b[39m target_dir \u001b[38;5;241m+\u001b[39m \u001b[38;5;124m'\u001b[39m\u001b[38;5;124m/\u001b[39m\u001b[38;5;124m'\u001b[39m \u001b[38;5;241m+\u001b[39m \u001b[38;5;28mid\u001b[39m \u001b[38;5;241m+\u001b[39m \u001b[38;5;124m'\u001b[39m\u001b[38;5;124m.zip\u001b[39m\u001b[38;5;124m'\u001b[39m\n\u001b[1;32m     59\u001b[0m     extract_archive(zip_fname, target_dir)\n",
      "File \u001b[0;32m~/.local/lib/python3.10/site-packages/kaggle/api/kaggle_api_extended.py:718\u001b[0m, in \u001b[0;36mKaggleApi.competition_download_files\u001b[0;34m(self, competition, path, force, quiet)\u001b[0m\n\u001b[1;32m    714\u001b[0m \u001b[38;5;28;01melse\u001b[39;00m:\n\u001b[1;32m    715\u001b[0m     effective_path \u001b[38;5;241m=\u001b[39m path\n\u001b[1;32m    717\u001b[0m response \u001b[38;5;241m=\u001b[39m \u001b[38;5;28mself\u001b[39m\u001b[38;5;241m.\u001b[39mprocess_response(\n\u001b[0;32m--> 718\u001b[0m     \u001b[38;5;28;43mself\u001b[39;49m\u001b[38;5;241;43m.\u001b[39;49m\u001b[43mcompetitions_data_download_files_with_http_info\u001b[49m\u001b[43m(\u001b[49m\n\u001b[1;32m    719\u001b[0m \u001b[43m        \u001b[49m\u001b[38;5;28;43mid\u001b[39;49m\u001b[38;5;241;43m=\u001b[39;49m\u001b[43mcompetition\u001b[49m\u001b[43m,\u001b[49m\u001b[43m \u001b[49m\u001b[43m_preload_content\u001b[49m\u001b[38;5;241;43m=\u001b[39;49m\u001b[38;5;28;43;01mFalse\u001b[39;49;00m\u001b[43m)\u001b[49m)\n\u001b[1;32m    720\u001b[0m url \u001b[38;5;241m=\u001b[39m response\u001b[38;5;241m.\u001b[39mretries\u001b[38;5;241m.\u001b[39mhistory[\u001b[38;5;241m0\u001b[39m]\u001b[38;5;241m.\u001b[39mredirect_location\u001b[38;5;241m.\u001b[39msplit(\u001b[38;5;124m'\u001b[39m\u001b[38;5;124m?\u001b[39m\u001b[38;5;124m'\u001b[39m)[\u001b[38;5;241m0\u001b[39m]\n\u001b[1;32m    721\u001b[0m outfile \u001b[38;5;241m=\u001b[39m os\u001b[38;5;241m.\u001b[39mpath\u001b[38;5;241m.\u001b[39mjoin(effective_path,\n\u001b[1;32m    722\u001b[0m                        competition \u001b[38;5;241m+\u001b[39m \u001b[38;5;124m'\u001b[39m\u001b[38;5;124m.\u001b[39m\u001b[38;5;124m'\u001b[39m \u001b[38;5;241m+\u001b[39m url\u001b[38;5;241m.\u001b[39msplit(\u001b[38;5;124m'\u001b[39m\u001b[38;5;124m.\u001b[39m\u001b[38;5;124m'\u001b[39m)[\u001b[38;5;241m-\u001b[39m\u001b[38;5;241m1\u001b[39m])\n",
      "File \u001b[0;32m~/.local/lib/python3.10/site-packages/kaggle/api/kaggle_api.py:400\u001b[0m, in \u001b[0;36mKaggleApi.competitions_data_download_files_with_http_info\u001b[0;34m(self, id, **kwargs)\u001b[0m\n\u001b[1;32m    397\u001b[0m \u001b[38;5;66;03m# Authentication setting\u001b[39;00m\n\u001b[1;32m    398\u001b[0m auth_settings \u001b[38;5;241m=\u001b[39m [\u001b[38;5;124m'\u001b[39m\u001b[38;5;124mbasicAuth\u001b[39m\u001b[38;5;124m'\u001b[39m]  \u001b[38;5;66;03m# noqa: E501\u001b[39;00m\n\u001b[0;32m--> 400\u001b[0m \u001b[38;5;28;01mreturn\u001b[39;00m \u001b[38;5;28;43mself\u001b[39;49m\u001b[38;5;241;43m.\u001b[39;49m\u001b[43mapi_client\u001b[49m\u001b[38;5;241;43m.\u001b[39;49m\u001b[43mcall_api\u001b[49m\u001b[43m(\u001b[49m\n\u001b[1;32m    401\u001b[0m \u001b[43m    \u001b[49m\u001b[38;5;124;43m'\u001b[39;49m\u001b[38;5;124;43m/competitions/data/download-all/\u001b[39;49m\u001b[38;5;132;43;01m{id}\u001b[39;49;00m\u001b[38;5;124;43m'\u001b[39;49m\u001b[43m,\u001b[49m\u001b[43m \u001b[49m\u001b[38;5;124;43m'\u001b[39;49m\u001b[38;5;124;43mGET\u001b[39;49m\u001b[38;5;124;43m'\u001b[39;49m\u001b[43m,\u001b[49m\n\u001b[1;32m    402\u001b[0m \u001b[43m    \u001b[49m\u001b[43mpath_params\u001b[49m\u001b[43m,\u001b[49m\n\u001b[1;32m    403\u001b[0m \u001b[43m    \u001b[49m\u001b[43mquery_params\u001b[49m\u001b[43m,\u001b[49m\n\u001b[1;32m    404\u001b[0m \u001b[43m    \u001b[49m\u001b[43mheader_params\u001b[49m\u001b[43m,\u001b[49m\n\u001b[1;32m    405\u001b[0m \u001b[43m    \u001b[49m\u001b[43mbody\u001b[49m\u001b[38;5;241;43m=\u001b[39;49m\u001b[43mbody_params\u001b[49m\u001b[43m,\u001b[49m\n\u001b[1;32m    406\u001b[0m \u001b[43m    \u001b[49m\u001b[43mpost_params\u001b[49m\u001b[38;5;241;43m=\u001b[39;49m\u001b[43mform_params\u001b[49m\u001b[43m,\u001b[49m\n\u001b[1;32m    407\u001b[0m \u001b[43m    \u001b[49m\u001b[43mfiles\u001b[49m\u001b[38;5;241;43m=\u001b[39;49m\u001b[43mlocal_var_files\u001b[49m\u001b[43m,\u001b[49m\n\u001b[1;32m    408\u001b[0m \u001b[43m    \u001b[49m\u001b[43mresponse_type\u001b[49m\u001b[38;5;241;43m=\u001b[39;49m\u001b[38;5;124;43m'\u001b[39;49m\u001b[38;5;124;43mResult\u001b[39;49m\u001b[38;5;124;43m'\u001b[39;49m\u001b[43m,\u001b[49m\u001b[43m  \u001b[49m\u001b[38;5;66;43;03m# noqa: E501\u001b[39;49;00m\n\u001b[1;32m    409\u001b[0m \u001b[43m    \u001b[49m\u001b[43mauth_settings\u001b[49m\u001b[38;5;241;43m=\u001b[39;49m\u001b[43mauth_settings\u001b[49m\u001b[43m,\u001b[49m\n\u001b[1;32m    410\u001b[0m \u001b[43m    \u001b[49m\u001b[43masync_req\u001b[49m\u001b[38;5;241;43m=\u001b[39;49m\u001b[43mparams\u001b[49m\u001b[38;5;241;43m.\u001b[39;49m\u001b[43mget\u001b[49m\u001b[43m(\u001b[49m\u001b[38;5;124;43m'\u001b[39;49m\u001b[38;5;124;43masync_req\u001b[39;49m\u001b[38;5;124;43m'\u001b[39;49m\u001b[43m)\u001b[49m\u001b[43m,\u001b[49m\n\u001b[1;32m    411\u001b[0m \u001b[43m    \u001b[49m\u001b[43m_return_http_data_only\u001b[49m\u001b[38;5;241;43m=\u001b[39;49m\u001b[43mparams\u001b[49m\u001b[38;5;241;43m.\u001b[39;49m\u001b[43mget\u001b[49m\u001b[43m(\u001b[49m\u001b[38;5;124;43m'\u001b[39;49m\u001b[38;5;124;43m_return_http_data_only\u001b[39;49m\u001b[38;5;124;43m'\u001b[39;49m\u001b[43m)\u001b[49m\u001b[43m,\u001b[49m\n\u001b[1;32m    412\u001b[0m \u001b[43m    \u001b[49m\u001b[43m_preload_content\u001b[49m\u001b[38;5;241;43m=\u001b[39;49m\u001b[43mparams\u001b[49m\u001b[38;5;241;43m.\u001b[39;49m\u001b[43mget\u001b[49m\u001b[43m(\u001b[49m\u001b[38;5;124;43m'\u001b[39;49m\u001b[38;5;124;43m_preload_content\u001b[39;49m\u001b[38;5;124;43m'\u001b[39;49m\u001b[43m,\u001b[49m\u001b[43m \u001b[49m\u001b[38;5;28;43;01mTrue\u001b[39;49;00m\u001b[43m)\u001b[49m\u001b[43m,\u001b[49m\n\u001b[1;32m    413\u001b[0m \u001b[43m    \u001b[49m\u001b[43m_request_timeout\u001b[49m\u001b[38;5;241;43m=\u001b[39;49m\u001b[43mparams\u001b[49m\u001b[38;5;241;43m.\u001b[39;49m\u001b[43mget\u001b[49m\u001b[43m(\u001b[49m\u001b[38;5;124;43m'\u001b[39;49m\u001b[38;5;124;43m_request_timeout\u001b[39;49m\u001b[38;5;124;43m'\u001b[39;49m\u001b[43m)\u001b[49m\u001b[43m,\u001b[49m\n\u001b[1;32m    414\u001b[0m \u001b[43m    \u001b[49m\u001b[43mcollection_formats\u001b[49m\u001b[38;5;241;43m=\u001b[39;49m\u001b[43mcollection_formats\u001b[49m\u001b[43m)\u001b[49m\n",
      "File \u001b[0;32m~/.local/lib/python3.10/site-packages/kaggle/api_client.py:329\u001b[0m, in \u001b[0;36mApiClient.call_api\u001b[0;34m(self, resource_path, method, path_params, query_params, header_params, body, post_params, files, response_type, auth_settings, async_req, _return_http_data_only, collection_formats, _preload_content, _request_timeout)\u001b[0m\n\u001b[1;32m    292\u001b[0m \u001b[38;5;250m\u001b[39m\u001b[38;5;124;03m\"\"\"Makes the HTTP request (synchronous) and returns deserialized data.\u001b[39;00m\n\u001b[1;32m    293\u001b[0m \n\u001b[1;32m    294\u001b[0m \u001b[38;5;124;03mTo make an async request, set the async_req parameter.\u001b[39;00m\n\u001b[0;32m   (...)\u001b[0m\n\u001b[1;32m    326\u001b[0m \u001b[38;5;124;03m    then the method will return the response directly.\u001b[39;00m\n\u001b[1;32m    327\u001b[0m \u001b[38;5;124;03m\"\"\"\u001b[39;00m\n\u001b[1;32m    328\u001b[0m \u001b[38;5;28;01mif\u001b[39;00m \u001b[38;5;129;01mnot\u001b[39;00m async_req:\n\u001b[0;32m--> 329\u001b[0m     \u001b[38;5;28;01mreturn\u001b[39;00m \u001b[38;5;28;43mself\u001b[39;49m\u001b[38;5;241;43m.\u001b[39;49m\u001b[43m__call_api\u001b[49m\u001b[43m(\u001b[49m\u001b[43mresource_path\u001b[49m\u001b[43m,\u001b[49m\u001b[43m \u001b[49m\u001b[43mmethod\u001b[49m\u001b[43m,\u001b[49m\n\u001b[1;32m    330\u001b[0m \u001b[43m                           \u001b[49m\u001b[43mpath_params\u001b[49m\u001b[43m,\u001b[49m\u001b[43m \u001b[49m\u001b[43mquery_params\u001b[49m\u001b[43m,\u001b[49m\u001b[43m \u001b[49m\u001b[43mheader_params\u001b[49m\u001b[43m,\u001b[49m\n\u001b[1;32m    331\u001b[0m \u001b[43m                           \u001b[49m\u001b[43mbody\u001b[49m\u001b[43m,\u001b[49m\u001b[43m \u001b[49m\u001b[43mpost_params\u001b[49m\u001b[43m,\u001b[49m\u001b[43m \u001b[49m\u001b[43mfiles\u001b[49m\u001b[43m,\u001b[49m\n\u001b[1;32m    332\u001b[0m \u001b[43m                           \u001b[49m\u001b[43mresponse_type\u001b[49m\u001b[43m,\u001b[49m\u001b[43m \u001b[49m\u001b[43mauth_settings\u001b[49m\u001b[43m,\u001b[49m\n\u001b[1;32m    333\u001b[0m \u001b[43m                           \u001b[49m\u001b[43m_return_http_data_only\u001b[49m\u001b[43m,\u001b[49m\u001b[43m \u001b[49m\u001b[43mcollection_formats\u001b[49m\u001b[43m,\u001b[49m\n\u001b[1;32m    334\u001b[0m \u001b[43m                           \u001b[49m\u001b[43m_preload_content\u001b[49m\u001b[43m,\u001b[49m\u001b[43m \u001b[49m\u001b[43m_request_timeout\u001b[49m\u001b[43m)\u001b[49m\n\u001b[1;32m    335\u001b[0m \u001b[38;5;28;01melse\u001b[39;00m:\n\u001b[1;32m    336\u001b[0m     thread \u001b[38;5;241m=\u001b[39m \u001b[38;5;28mself\u001b[39m\u001b[38;5;241m.\u001b[39mpool\u001b[38;5;241m.\u001b[39mapply_async(\u001b[38;5;28mself\u001b[39m\u001b[38;5;241m.\u001b[39m__call_api, (resource_path,\n\u001b[1;32m    337\u001b[0m                                    method, path_params, query_params,\n\u001b[1;32m    338\u001b[0m                                    header_params, body,\n\u001b[0;32m   (...)\u001b[0m\n\u001b[1;32m    342\u001b[0m                                    collection_formats,\n\u001b[1;32m    343\u001b[0m                                    _preload_content, _request_timeout))\n",
      "File \u001b[0;32m~/.local/lib/python3.10/site-packages/kaggle/api_client.py:161\u001b[0m, in \u001b[0;36mApiClient.__call_api\u001b[0;34m(self, resource_path, method, path_params, query_params, header_params, body, post_params, files, response_type, auth_settings, _return_http_data_only, collection_formats, _preload_content, _request_timeout)\u001b[0m\n\u001b[1;32m    158\u001b[0m url \u001b[38;5;241m=\u001b[39m \u001b[38;5;28mself\u001b[39m\u001b[38;5;241m.\u001b[39mconfiguration\u001b[38;5;241m.\u001b[39mhost \u001b[38;5;241m+\u001b[39m resource_path\n\u001b[1;32m    160\u001b[0m \u001b[38;5;66;03m# perform request and return response\u001b[39;00m\n\u001b[0;32m--> 161\u001b[0m response_data \u001b[38;5;241m=\u001b[39m \u001b[38;5;28;43mself\u001b[39;49m\u001b[38;5;241;43m.\u001b[39;49m\u001b[43mrequest\u001b[49m\u001b[43m(\u001b[49m\n\u001b[1;32m    162\u001b[0m \u001b[43m    \u001b[49m\u001b[43mmethod\u001b[49m\u001b[43m,\u001b[49m\u001b[43m \u001b[49m\u001b[43murl\u001b[49m\u001b[43m,\u001b[49m\u001b[43m \u001b[49m\u001b[43mquery_params\u001b[49m\u001b[38;5;241;43m=\u001b[39;49m\u001b[43mquery_params\u001b[49m\u001b[43m,\u001b[49m\u001b[43m \u001b[49m\u001b[43mheaders\u001b[49m\u001b[38;5;241;43m=\u001b[39;49m\u001b[43mheader_params\u001b[49m\u001b[43m,\u001b[49m\n\u001b[1;32m    163\u001b[0m \u001b[43m    \u001b[49m\u001b[43mpost_params\u001b[49m\u001b[38;5;241;43m=\u001b[39;49m\u001b[43mpost_params\u001b[49m\u001b[43m,\u001b[49m\u001b[43m \u001b[49m\u001b[43mbody\u001b[49m\u001b[38;5;241;43m=\u001b[39;49m\u001b[43mbody\u001b[49m\u001b[43m,\u001b[49m\n\u001b[1;32m    164\u001b[0m \u001b[43m    \u001b[49m\u001b[43m_preload_content\u001b[49m\u001b[38;5;241;43m=\u001b[39;49m\u001b[43m_preload_content\u001b[49m\u001b[43m,\u001b[49m\n\u001b[1;32m    165\u001b[0m \u001b[43m    \u001b[49m\u001b[43m_request_timeout\u001b[49m\u001b[38;5;241;43m=\u001b[39;49m\u001b[43m_request_timeout\u001b[49m\u001b[43m)\u001b[49m\n\u001b[1;32m    167\u001b[0m \u001b[38;5;28mself\u001b[39m\u001b[38;5;241m.\u001b[39mlast_response \u001b[38;5;241m=\u001b[39m response_data\n\u001b[1;32m    169\u001b[0m return_data \u001b[38;5;241m=\u001b[39m response_data\n",
      "File \u001b[0;32m~/.local/lib/python3.10/site-packages/kaggle/api_client.py:351\u001b[0m, in \u001b[0;36mApiClient.request\u001b[0;34m(self, method, url, query_params, headers, post_params, body, _preload_content, _request_timeout)\u001b[0m\n\u001b[1;32m    349\u001b[0m \u001b[38;5;250m\u001b[39m\u001b[38;5;124;03m\"\"\"Makes the HTTP request using RESTClient.\"\"\"\u001b[39;00m\n\u001b[1;32m    350\u001b[0m \u001b[38;5;28;01mif\u001b[39;00m method \u001b[38;5;241m==\u001b[39m \u001b[38;5;124m\"\u001b[39m\u001b[38;5;124mGET\u001b[39m\u001b[38;5;124m\"\u001b[39m:\n\u001b[0;32m--> 351\u001b[0m     \u001b[38;5;28;01mreturn\u001b[39;00m \u001b[38;5;28;43mself\u001b[39;49m\u001b[38;5;241;43m.\u001b[39;49m\u001b[43mrest_client\u001b[49m\u001b[38;5;241;43m.\u001b[39;49m\u001b[43mGET\u001b[49m\u001b[43m(\u001b[49m\u001b[43murl\u001b[49m\u001b[43m,\u001b[49m\n\u001b[1;32m    352\u001b[0m \u001b[43m                                \u001b[49m\u001b[43mquery_params\u001b[49m\u001b[38;5;241;43m=\u001b[39;49m\u001b[43mquery_params\u001b[49m\u001b[43m,\u001b[49m\n\u001b[1;32m    353\u001b[0m \u001b[43m                                \u001b[49m\u001b[43m_preload_content\u001b[49m\u001b[38;5;241;43m=\u001b[39;49m\u001b[43m_preload_content\u001b[49m\u001b[43m,\u001b[49m\n\u001b[1;32m    354\u001b[0m \u001b[43m                                \u001b[49m\u001b[43m_request_timeout\u001b[49m\u001b[38;5;241;43m=\u001b[39;49m\u001b[43m_request_timeout\u001b[49m\u001b[43m,\u001b[49m\n\u001b[1;32m    355\u001b[0m \u001b[43m                                \u001b[49m\u001b[43mheaders\u001b[49m\u001b[38;5;241;43m=\u001b[39;49m\u001b[43mheaders\u001b[49m\u001b[43m)\u001b[49m\n\u001b[1;32m    356\u001b[0m \u001b[38;5;28;01melif\u001b[39;00m method \u001b[38;5;241m==\u001b[39m \u001b[38;5;124m\"\u001b[39m\u001b[38;5;124mHEAD\u001b[39m\u001b[38;5;124m\"\u001b[39m:\n\u001b[1;32m    357\u001b[0m     \u001b[38;5;28;01mreturn\u001b[39;00m \u001b[38;5;28mself\u001b[39m\u001b[38;5;241m.\u001b[39mrest_client\u001b[38;5;241m.\u001b[39mHEAD(url,\n\u001b[1;32m    358\u001b[0m                                  query_params\u001b[38;5;241m=\u001b[39mquery_params,\n\u001b[1;32m    359\u001b[0m                                  _preload_content\u001b[38;5;241m=\u001b[39m_preload_content,\n\u001b[1;32m    360\u001b[0m                                  _request_timeout\u001b[38;5;241m=\u001b[39m_request_timeout,\n\u001b[1;32m    361\u001b[0m                                  headers\u001b[38;5;241m=\u001b[39mheaders)\n",
      "File \u001b[0;32m~/.local/lib/python3.10/site-packages/kaggle/rest.py:247\u001b[0m, in \u001b[0;36mRESTClientObject.GET\u001b[0;34m(self, url, headers, query_params, _preload_content, _request_timeout)\u001b[0m\n\u001b[1;32m    245\u001b[0m \u001b[38;5;28;01mdef\u001b[39;00m \u001b[38;5;21mGET\u001b[39m(\u001b[38;5;28mself\u001b[39m, url, headers\u001b[38;5;241m=\u001b[39m\u001b[38;5;28;01mNone\u001b[39;00m, query_params\u001b[38;5;241m=\u001b[39m\u001b[38;5;28;01mNone\u001b[39;00m, _preload_content\u001b[38;5;241m=\u001b[39m\u001b[38;5;28;01mTrue\u001b[39;00m,\n\u001b[1;32m    246\u001b[0m         _request_timeout\u001b[38;5;241m=\u001b[39m\u001b[38;5;28;01mNone\u001b[39;00m):\n\u001b[0;32m--> 247\u001b[0m     \u001b[38;5;28;01mreturn\u001b[39;00m \u001b[38;5;28;43mself\u001b[39;49m\u001b[38;5;241;43m.\u001b[39;49m\u001b[43mrequest\u001b[49m\u001b[43m(\u001b[49m\u001b[38;5;124;43m\"\u001b[39;49m\u001b[38;5;124;43mGET\u001b[39;49m\u001b[38;5;124;43m\"\u001b[39;49m\u001b[43m,\u001b[49m\u001b[43m \u001b[49m\u001b[43murl\u001b[49m\u001b[43m,\u001b[49m\n\u001b[1;32m    248\u001b[0m \u001b[43m                        \u001b[49m\u001b[43mheaders\u001b[49m\u001b[38;5;241;43m=\u001b[39;49m\u001b[43mheaders\u001b[49m\u001b[43m,\u001b[49m\n\u001b[1;32m    249\u001b[0m \u001b[43m                        \u001b[49m\u001b[43m_preload_content\u001b[49m\u001b[38;5;241;43m=\u001b[39;49m\u001b[43m_preload_content\u001b[49m\u001b[43m,\u001b[49m\n\u001b[1;32m    250\u001b[0m \u001b[43m                        \u001b[49m\u001b[43m_request_timeout\u001b[49m\u001b[38;5;241;43m=\u001b[39;49m\u001b[43m_request_timeout\u001b[49m\u001b[43m,\u001b[49m\n\u001b[1;32m    251\u001b[0m \u001b[43m                        \u001b[49m\u001b[43mquery_params\u001b[49m\u001b[38;5;241;43m=\u001b[39;49m\u001b[43mquery_params\u001b[49m\u001b[43m)\u001b[49m\n",
      "File \u001b[0;32m~/.local/lib/python3.10/site-packages/kaggle/rest.py:241\u001b[0m, in \u001b[0;36mRESTClientObject.request\u001b[0;34m(self, method, url, query_params, headers, body, post_params, _preload_content, _request_timeout)\u001b[0m\n\u001b[1;32m    238\u001b[0m     logger\u001b[38;5;241m.\u001b[39mdebug(\u001b[38;5;124m\"\u001b[39m\u001b[38;5;124mresponse body: \u001b[39m\u001b[38;5;132;01m%s\u001b[39;00m\u001b[38;5;124m\"\u001b[39m, r\u001b[38;5;241m.\u001b[39mdata)\n\u001b[1;32m    240\u001b[0m \u001b[38;5;28;01mif\u001b[39;00m \u001b[38;5;129;01mnot\u001b[39;00m \u001b[38;5;241m200\u001b[39m \u001b[38;5;241m<\u001b[39m\u001b[38;5;241m=\u001b[39m r\u001b[38;5;241m.\u001b[39mstatus \u001b[38;5;241m<\u001b[39m\u001b[38;5;241m=\u001b[39m \u001b[38;5;241m299\u001b[39m:\n\u001b[0;32m--> 241\u001b[0m     \u001b[38;5;28;01mraise\u001b[39;00m ApiException(http_resp\u001b[38;5;241m=\u001b[39mr)\n\u001b[1;32m    243\u001b[0m \u001b[38;5;28;01mreturn\u001b[39;00m r\n",
      "\u001b[0;31mApiException\u001b[0m: (401)\nReason: Unauthorized\nHTTP response headers: HTTPHeaderDict({'Content-Length': '0', 'Date': 'Mon, 27 Mar 2023 15:35:31 GMT', 'Access-Control-Allow-Credentials': 'true', 'Set-Cookie': 'ka_sessionid=6f9de378421340914f1849e338508edd; max-age=2626560; path=/, GCLB=CNeY8-ui4_OSBA; path=/; HttpOnly', 'Turbolinks-Location': 'https://www.kaggle.com/api/v1/competitions/data/download-all/titanic', 'Strict-Transport-Security': 'max-age=63072000; includeSubDomains; preload', 'Content-Security-Policy': \"object-src 'none'; script-src 'nonce-VXfoO9UfZRfU4uxEVTBM+Q==' 'report-sample' 'unsafe-inline' 'unsafe-eval' 'strict-dynamic' https: http:; frame-src 'self' https://www.kaggleusercontent.com https://www.youtube.com/embed/ https://polygraph-cool.github.io https://www.google.com/recaptcha/ https://form.jotform.com https://submit.jotform.us https://submit.jotformpro.com https://submit.jotform.com https://www.docdroid.com https://www.docdroid.net https://kaggle-static.storage.googleapis.com https://kaggle-static-staging.storage.googleapis.com https://kkb-dev.jupyter-proxy.kaggle.net https://kkb-staging.jupyter-proxy.kaggle.net https://kkb-production.jupyter-proxy.kaggle.net https://kkb-dev.firebaseapp.com https://kkb-staging.firebaseapp.com https://kkb-production.firebaseapp.com https://kaggle-metastore-test.firebaseapp.com https://kaggle-metastore.firebaseapp.com https://apis.google.com https://content-sheets.googleapis.com/ https://accounts.google.com/ https://storage.googleapis.com https://docs.google.com https://drive.google.com https://calendar.google.com/; base-uri 'none'; report-uri https://csp.withgoogle.com/csp/kaggle/20201130;\", 'X-Content-Type-Options': 'nosniff', 'Referrer-Policy': 'strict-origin-when-cross-origin', 'Via': '1.1 google', 'Alt-Svc': 'h3=\":443\"; ma=2592000,h3-29=\":443\"; ma=2592000'})\n"
     ]
    }
   ],
   "source": [
    "od.download(\"https://www.kaggle.com/competitions/titanic/data?select=train.csv\")"
   ]
  },
  {
   "cell_type": "code",
   "execution_count": null,
   "id": "4d2ab1aa-737f-4f8d-8d7a-e88f400186d4",
   "metadata": {},
   "outputs": [],
   "source": [
    "od.download(\n",
    "    \"https://www.kaggle.com/datasets/nehaprabhavalkar/av-healthcare-analytics-ii\"\n",
    ")# Load Data"
   ]
  },
  {
   "cell_type": "markdown",
   "id": "b3511140-e68b-48dc-b240-36d863d2880f",
   "metadata": {},
   "source": [
    "# Helpful Functions"
   ]
  },
  {
   "cell_type": "code",
   "execution_count": 43,
   "id": "a13c5183-acad-4f5e-ac74-5120fee3dc07",
   "metadata": {
    "tags": []
   },
   "outputs": [],
   "source": [
    "def get_first_name(string):\n",
    "    return string.split()[2]\n",
    "\n",
    "\n",
    "def len_of_string(string):\n",
    "    return len(string)\n",
    "\n",
    "\n",
    "def get_last_name(string):\n",
    "    return string.split()[0][:-1]\n",
    "\n",
    "\n",
    "def first_let_first_name(string):\n",
    "    return string[0][0]\n",
    "\n",
    "\n",
    "def letter_to_pos_in_alph(old):\n",
    "    if len(old) != 1:\n",
    "        return 0\n",
    "    new = ord(old)\n",
    "    if 65 <= new <= 90:\n",
    "        # Upper case letter\n",
    "        return new - 64\n",
    "    elif 97 <= new <= 122:\n",
    "        # Lower case letter\n",
    "        return new - 96\n",
    "    # Unrecognized character\n",
    "    return 0"
   ]
  },
  {
   "cell_type": "markdown",
   "id": "7321899d-344a-4cc8-b9d0-495d6caeaf19",
   "metadata": {
    "tags": []
   },
   "source": [
    "# Load Data"
   ]
  },
  {
   "cell_type": "code",
   "execution_count": 44,
   "id": "b5bc78cf-ec60-49db-b8ea-43a37d318d76",
   "metadata": {
    "tags": []
   },
   "outputs": [],
   "source": [
    "df = pd.read_csv(\"/home/luke/jupyterlab/Datasets/titanic/train.csv\")"
   ]
  },
  {
   "cell_type": "markdown",
   "id": "944bf6ae-e578-4d2a-98e6-c6577d2bf207",
   "metadata": {
    "tags": []
   },
   "source": [
    "# Start analysis"
   ]
  },
  {
   "cell_type": "markdown",
   "id": "68211e46-942a-4991-8a64-5bdb9b383cd2",
   "metadata": {},
   "source": [
    "% of men that survived"
   ]
  },
  {
   "cell_type": "code",
   "execution_count": 45,
   "id": "e1b0a610-367f-4a2c-80c9-26ed3f5f088e",
   "metadata": {
    "tags": []
   },
   "outputs": [
    {
     "data": {
      "text/plain": [
       "0.18890814558058924"
      ]
     },
     "execution_count": 45,
     "metadata": {},
     "output_type": "execute_result"
    }
   ],
   "source": [
    "df.query(f\"Sex == 'male'\").Survived.sum() / len(df.query(f\"Sex == 'male'\"))"
   ]
  },
  {
   "cell_type": "markdown",
   "id": "0de9b4ed-3008-4fa3-af6c-fe08245b6f91",
   "metadata": {},
   "source": [
    "% of women that survived"
   ]
  },
  {
   "cell_type": "code",
   "execution_count": 46,
   "id": "5cad1955-1ecf-4e42-ac97-fab51f998d08",
   "metadata": {
    "tags": []
   },
   "outputs": [
    {
     "data": {
      "text/plain": [
       "0.7420382165605095"
      ]
     },
     "execution_count": 46,
     "metadata": {},
     "output_type": "execute_result"
    }
   ],
   "source": [
    "df.query(f\"Sex == 'female'\").Survived.sum() / len(df.query(f\"Sex == 'female'\"))"
   ]
  },
  {
   "cell_type": "markdown",
   "id": "400083d7-8698-4e6b-bd1e-d9e702310350",
   "metadata": {},
   "source": [
    "number of people in each class"
   ]
  },
  {
   "cell_type": "code",
   "execution_count": 47,
   "id": "aed1ef90-963f-4a2b-b5c6-fb96b928b11b",
   "metadata": {
    "tags": []
   },
   "outputs": [
    {
     "data": {
      "text/plain": [
       "<Axes: title={'center': 'scatter plot of age and fare colored by survival'}, xlabel='Age', ylabel='Fare'>"
      ]
     },
     "execution_count": 47,
     "metadata": {},
     "output_type": "execute_result"
    }
   ],
   "source": [
    "df[\"Pclass\"].value_counts().sort_index().plot(kind=\"bar\")"
   ]
  },
  {
   "cell_type": "markdown",
   "id": "d82fae99-5fe1-4af1-9e1f-36a621a58e37",
   "metadata": {},
   "source": [
    "survival rate by each class"
   ]
  },
  {
   "cell_type": "code",
   "execution_count": 52,
   "id": "c5456055-669d-46a7-bc04-d434d9e73210",
   "metadata": {
    "tags": []
   },
   "outputs": [],
   "source": [
    "first_class_survived = df.query(\"Pclass == 1\").Survived.sum() / len(\n",
    "    df.query(\"Pclass == 1\")\n",
    ")\n",
    "second_class_survived = df.query(\"Pclass == 2\").Survived.sum() / len(\n",
    "    df.query(\"Pclass == 2\")\n",
    ")\n",
    "third_class_survived = df.query(\"Pclass == 3\").Survived.sum() / len(\n",
    "    df.query(\"Pclass == 3\")\n",
    ")\n",
    "\n",
    "class_survival = {\n",
    "    1: first_class_survived,\n",
    "    2: second_class_survived,\n",
    "    3: third_class_survived,\n",
    "}"
   ]
  },
  {
   "cell_type": "code",
   "execution_count": 53,
   "id": "0dcf253e-1eda-4850-a192-a656918c85fd",
   "metadata": {
    "tags": []
   },
   "outputs": [],
   "source": [
    "# pd.DataFrame.from_dict(class_survival, orient=\"index\").plot(kind=\"bar\")"
   ]
  },
  {
   "cell_type": "code",
   "execution_count": 54,
   "id": "fbf6bfcf-78ce-47c3-b0df-7aad2cb1c536",
   "metadata": {
    "tags": []
   },
   "outputs": [
    {
     "data": {
      "text/plain": [
       "<Axes: title={'center': 'scatter plot of age and fare colored by survival'}, xlabel='Age', ylabel='Fare'>"
      ]
     },
     "execution_count": 54,
     "metadata": {},
     "output_type": "execute_result"
    },
    {
     "data": {
      "image/png": "[encoded data removed]",
      "text/plain": [
       "<Figure size 640x480 with 2 Axes>"
      ]
     },
     "metadata": {},
     "output_type": "display_data"
    }
   ],
   "source": [
    "df[[\"Age\", \"Fare\"]].plot(\n",
    "    kind=\"scatter\",\n",
    "    x=\"Age\",\n",
    "    y=\"Fare\",\n",
    "    c=df[\"Survived\"],\n",
    "    cmap=\"plasma\",\n",
    "    title=\"scatter plot of age and fare colored by survival\",\n",
    ")"
   ]
  },
  {
   "cell_type": "markdown",
   "id": "01b5d31e-bf81-4b41-b6b6-48bd541b72cd",
   "metadata": {},
   "source": [
    "what fare did you have to pay to have the highest chance of survival"
   ]
  },
  {
   "cell_type": "code",
   "execution_count": 55,
   "id": "9224846b-bf68-402c-a2ea-698f9a808ec2",
   "metadata": {
    "tags": []
   },
   "outputs": [],
   "source": [
    "survival_dict = {}\n",
    "for n in range(1, 500):\n",
    "    results = df.query(f\"Fare > {n}\")[\"Survived\"].value_counts()\n",
    "    percent_survived = results[1] / results.sum()\n",
    "\n",
    "    survival_dict[n] = [percent_survived]"
   ]
  },
  {
   "cell_type": "code",
   "execution_count": 56,
   "id": "87528768-a0cf-4dd7-8854-5d4796961663",
   "metadata": {
    "tags": []
   },
   "outputs": [],
   "source": [
    "pd.DataFrame.from_dict(\n",
    "    survival_dict, orient=\"index\", columns=[\"Probability of survival\"]\n",
    ").plot(xlabel=\"Fare paid\", ylabel=\"probability of survival\")\n",
    "plt.close()"
   ]
  },
  {
   "cell_type": "code",
   "execution_count": 57,
   "id": "85150a71-c8fe-48e6-8c84-eb81b93f24d8",
   "metadata": {
    "tags": []
   },
   "outputs": [],
   "source": [
    "temp = df"
   ]
  },
  {
   "cell_type": "code",
   "execution_count": 58,
   "id": "45a957ca-1992-480c-9852-ccb838a4d892",
   "metadata": {
    "tags": []
   },
   "outputs": [],
   "source": [
    "temp[\"Fare\"] = temp[\"Fare\"].astype(\"int\")\n",
    "temp[\"Age\"] = temp[\"Age\"].fillna(temp[\"Age\"].mean()).round(2).astype(\"int\")\n",
    "temp[\"Sex\"] = temp[\"Sex\"].replace([\"male\", \"female\"], [0, 1])\n",
    "temp[\"Embarked\"] = temp[\"Embarked\"].replace([\"C\", \"Q\", \"S\"], [0, 1, 2])"
   ]
  },
  {
   "cell_type": "code",
   "execution_count": 60,
   "id": "d9977619-e8e2-4cc0-a712-777839a6bc2f",
   "metadata": {
    "tags": []
   },
   "outputs": [
    {
     "data": {
      "text/plain": [
       "Text(0.5, 0, 'Embarked')"
      ]
     },
     "execution_count": 60,
     "metadata": {},
     "output_type": "execute_result"
    },
    {
     "data": {
      "image/png": "[encoded data removed]",
      "text/plain": [
       "<Figure size 1000x1000 with 1 Axes>"
      ]
     },
     "metadata": {},
     "output_type": "display_data"
    }
   ],
   "source": [
    "fig = plt.figure(figsize=(10, 10))\n",
    "axis = fig.add_subplot(111, projection=\"3d\")\n",
    "axis.scatter(\n",
    "    temp[\"Age\"], temp[\"Fare\"], temp[\"Embarked\"], c=temp[\"Survived\"], cmap=\"plasma\"\n",
    ")\n",
    "axis.set_xlabel(\"Age\", fontsize=10)\n",
    "axis.set_ylabel(\"Fare\", fontsize=10)\n",
    "axis.set_zlabel(\"Embarked\", fontsize=10)\n",
    "# plt.close()"
   ]
  },
  {
   "cell_type": "markdown",
   "id": "71946aca-3708-4c54-ae31-0a5a74a79afe",
   "metadata": {
    "tags": []
   },
   "source": [
    "# Random Forest"
   ]
  },
  {
   "cell_type": "code",
   "execution_count": 62,
   "id": "9537a1dc-d5b2-488a-a193-28d014691321",
   "metadata": {
    "tags": []
   },
   "outputs": [],
   "source": [
    "df = pd.read_csv(\"/home/luke/jupyterlab/Datasets/titanic/train.csv\")"
   ]
  },
  {
   "cell_type": "code",
   "execution_count": 63,
   "id": "e404581a-69ec-493f-b2c2-d02979187bf1",
   "metadata": {
    "tags": []
   },
   "outputs": [],
   "source": [
    "def len_of_string(string):\n",
    "    return len(string)"
   ]
  },
  {
   "cell_type": "code",
   "execution_count": 64,
   "id": "e44a8e3c-e75e-4440-a6c8-49e33493f9bd",
   "metadata": {
    "tags": []
   },
   "outputs": [],
   "source": [
    "df[\"name_len\"] = df[\"Name\"].apply(len_of_string)\n",
    "df[\"Age\"] = df[\"Age\"].fillna(df[\"Age\"].mean()).round(2).astype(\"int\")\n",
    "df[\"Sex\"] = df[\"Sex\"].replace([\"male\", \"female\"], [0, 1])\n",
    "df[\"Embarked\"] = (\n",
    "    df[\"Embarked\"].fillna(2).replace([\"C\", \"Q\", \"S\"], [0, 1, 2]).astype(\"int\")\n",
    ")\n",
    "df[\"Fare\"] = df[\"Fare\"].astype(\"int\")"
   ]
  },
  {
   "cell_type": "markdown",
   "id": "50f2a8a5-730c-4552-bf5f-f3bba934968a",
   "metadata": {
    "tags": []
   },
   "source": [
    "## Determine the best features to use in the model"
   ]
  },
  {
   "cell_type": "code",
   "execution_count": 43,
   "id": "508d89a5-7938-4bb5-bb4d-47bcd26e515b",
   "metadata": {},
   "outputs": [],
   "source": [
    "df_tree = df[\n",
    "    [\n",
    "        \"Survived\",\n",
    "        \"Pclass\",\n",
    "        \"Sex\",\n",
    "        \"Age\",\n",
    "        \"SibSp\",\n",
    "        \"Parch\",\n",
    "        \"Fare\",\n",
    "        \"Embarked\",\n",
    "        \"name_len\",\n",
    "    ]\n",
    "]"
   ]
  },
  {
   "cell_type": "code",
   "execution_count": 44,
   "id": "669f092b-64b7-4b42-9257-bd2320a26515",
   "metadata": {},
   "outputs": [
    {
     "name": "stdout",
     "output_type": "stream",
     "text": [
      "accuracy:0.7982062780269058\n",
      "accuracy:0.7892376681614349\n",
      "accuracy:0.8026905829596412\n",
      "accuracy:0.7802690582959642\n",
      "accuracy:0.8026905829596412\n",
      "accuracy:0.7892376681614349\n",
      "accuracy:0.7757847533632287\n"
     ]
    }
   ],
   "source": [
    "for n in range(1, 8):\n",
    "    test = SelectKBest(score_func=f_classif, k=n)\n",
    "    fit = test.fit(df_tree.drop(\"Survived\", axis=1), df_tree[\"Survived\"])\n",
    "    features_to_fit = fit.get_feature_names_out()\n",
    "    features = df_tree[features_to_fit]\n",
    "    target = df_tree[\"Survived\"]\n",
    "    X_train, X_test, y_train, y_test = train_test_split(\n",
    "        features, target, test_size=0.25\n",
    "    )\n",
    "    clf = RandomForestClassifier(n_estimators=100)\n",
    "    clf.fit(X_train, y_train)\n",
    "    y_pred = clf.predict(X_test)\n",
    "    print(f\"accuracy:{accuracy_score(y_test, y_pred)}\")"
   ]
  },
  {
   "cell_type": "code",
   "execution_count": 45,
   "id": "cc650264-615f-40f6-8016-1627a835278d",
   "metadata": {},
   "outputs": [],
   "source": [
    "clf_result = pd.DataFrame(clf.predict_proba(X_test))\n",
    "clf_result[\"pred\"] = y_pred\n",
    "clf_result[\"true\"] = y_test.reset_index(drop=True)"
   ]
  },
  {
   "cell_type": "code",
   "execution_count": 46,
   "id": "063979ad-f7d7-421f-94c8-193f497131ee",
   "metadata": {},
   "outputs": [
    {
     "data": {
      "text/html": [
       "<div>\n",
       "<style scoped>\n",
       "    .dataframe tbody tr th:only-of-type {\n",
       "        vertical-align: middle;\n",
       "    }\n",
       "\n",
       "    .dataframe tbody tr th {\n",
       "        vertical-align: top;\n",
       "    }\n",
       "\n",
       "    .dataframe thead th {\n",
       "        text-align: right;\n",
       "    }\n",
       "</style>\n",
       "<table border=\"1\" class=\"dataframe\">\n",
       "  <thead>\n",
       "    <tr style=\"text-align: right;\">\n",
       "      <th></th>\n",
       "      <th>0</th>\n",
       "      <th>1</th>\n",
       "      <th>pred</th>\n",
       "      <th>true</th>\n",
       "    </tr>\n",
       "  </thead>\n",
       "  <tbody>\n",
       "    <tr>\n",
       "      <th>0</th>\n",
       "      <td>0.970000</td>\n",
       "      <td>0.030000</td>\n",
       "      <td>0</td>\n",
       "      <td>0</td>\n",
       "    </tr>\n",
       "    <tr>\n",
       "      <th>1</th>\n",
       "      <td>0.720000</td>\n",
       "      <td>0.280000</td>\n",
       "      <td>0</td>\n",
       "      <td>0</td>\n",
       "    </tr>\n",
       "    <tr>\n",
       "      <th>2</th>\n",
       "      <td>0.090000</td>\n",
       "      <td>0.910000</td>\n",
       "      <td>1</td>\n",
       "      <td>0</td>\n",
       "    </tr>\n",
       "    <tr>\n",
       "      <th>3</th>\n",
       "      <td>0.990000</td>\n",
       "      <td>0.010000</td>\n",
       "      <td>0</td>\n",
       "      <td>0</td>\n",
       "    </tr>\n",
       "    <tr>\n",
       "      <th>4</th>\n",
       "      <td>0.990000</td>\n",
       "      <td>0.010000</td>\n",
       "      <td>0</td>\n",
       "      <td>0</td>\n",
       "    </tr>\n",
       "    <tr>\n",
       "      <th>...</th>\n",
       "      <td>...</td>\n",
       "      <td>...</td>\n",
       "      <td>...</td>\n",
       "      <td>...</td>\n",
       "    </tr>\n",
       "    <tr>\n",
       "      <th>218</th>\n",
       "      <td>0.927667</td>\n",
       "      <td>0.072333</td>\n",
       "      <td>0</td>\n",
       "      <td>1</td>\n",
       "    </tr>\n",
       "    <tr>\n",
       "      <th>219</th>\n",
       "      <td>0.960000</td>\n",
       "      <td>0.040000</td>\n",
       "      <td>0</td>\n",
       "      <td>0</td>\n",
       "    </tr>\n",
       "    <tr>\n",
       "      <th>220</th>\n",
       "      <td>0.990000</td>\n",
       "      <td>0.010000</td>\n",
       "      <td>0</td>\n",
       "      <td>0</td>\n",
       "    </tr>\n",
       "    <tr>\n",
       "      <th>221</th>\n",
       "      <td>0.890000</td>\n",
       "      <td>0.110000</td>\n",
       "      <td>0</td>\n",
       "      <td>0</td>\n",
       "    </tr>\n",
       "    <tr>\n",
       "      <th>222</th>\n",
       "      <td>0.960000</td>\n",
       "      <td>0.040000</td>\n",
       "      <td>0</td>\n",
       "      <td>0</td>\n",
       "    </tr>\n",
       "  </tbody>\n",
       "</table>\n",
       "<p>223 rows × 4 columns</p>\n",
       "</div>"
      ],
      "text/plain": [
       "            0         1  pred  true\n",
       "0    0.970000  0.030000     0     0\n",
       "1    0.720000  0.280000     0     0\n",
       "2    0.090000  0.910000     1     0\n",
       "3    0.990000  0.010000     0     0\n",
       "4    0.990000  0.010000     0     0\n",
       "..        ...       ...   ...   ...\n",
       "218  0.927667  0.072333     0     1\n",
       "219  0.960000  0.040000     0     0\n",
       "220  0.990000  0.010000     0     0\n",
       "221  0.890000  0.110000     0     0\n",
       "222  0.960000  0.040000     0     0\n",
       "\n",
       "[223 rows x 4 columns]"
      ]
     },
     "execution_count": 46,
     "metadata": {},
     "output_type": "execute_result"
    }
   ],
   "source": [
    "clf_result"
   ]
  },
  {
   "cell_type": "code",
   "execution_count": 47,
   "id": "d2b2aee3-7aa4-4fde-a0e5-ecd651d0ae55",
   "metadata": {},
   "outputs": [
    {
     "data": {
      "text/html": [
       "<div>\n",
       "<style scoped>\n",
       "    .dataframe tbody tr th:only-of-type {\n",
       "        vertical-align: middle;\n",
       "    }\n",
       "\n",
       "    .dataframe tbody tr th {\n",
       "        vertical-align: top;\n",
       "    }\n",
       "\n",
       "    .dataframe thead th {\n",
       "        text-align: right;\n",
       "    }\n",
       "</style>\n",
       "<table border=\"1\" class=\"dataframe\">\n",
       "  <thead>\n",
       "    <tr style=\"text-align: right;\">\n",
       "      <th></th>\n",
       "      <th>Pclass</th>\n",
       "      <th>Sex</th>\n",
       "      <th>Age</th>\n",
       "      <th>Parch</th>\n",
       "      <th>Fare</th>\n",
       "      <th>Embarked</th>\n",
       "      <th>name_len</th>\n",
       "    </tr>\n",
       "  </thead>\n",
       "  <tbody>\n",
       "    <tr>\n",
       "      <th>0</th>\n",
       "      <td>0.098634</td>\n",
       "      <td>0.234646</td>\n",
       "      <td>0.199757</td>\n",
       "      <td>0.037836</td>\n",
       "      <td>0.174469</td>\n",
       "      <td>0.038877</td>\n",
       "      <td>0.21578</td>\n",
       "    </tr>\n",
       "  </tbody>\n",
       "</table>\n",
       "</div>"
      ],
      "text/plain": [
       "     Pclass       Sex       Age     Parch      Fare  Embarked  name_len\n",
       "0  0.098634  0.234646  0.199757  0.037836  0.174469  0.038877   0.21578"
      ]
     },
     "execution_count": 47,
     "metadata": {},
     "output_type": "execute_result"
    }
   ],
   "source": [
    "feature_importance = pd.DataFrame.from_dict(clf.feature_importances_).T\n",
    "feature_importance.columns = clf.feature_names_in_\n",
    "feature_importance"
   ]
  },
  {
   "cell_type": "code",
   "execution_count": null,
   "id": "646e22ac-c735-4a54-93ed-9f939383af23",
   "metadata": {},
   "outputs": [],
   "source": []
  },
  {
   "cell_type": "markdown",
   "id": "1e789cbd-6ce5-456b-8ee9-5fb1ea7d716b",
   "metadata": {},
   "source": []
  },
  {
   "cell_type": "markdown",
   "id": "e9ca5d32-3ffd-469f-ac06-8f43be254630",
   "metadata": {
    "tags": []
   },
   "source": [
    "# Random Forest with normailized  data"
   ]
  },
  {
   "cell_type": "code",
   "execution_count": 71,
   "id": "d0028782-dad5-4291-a1ce-2827fe495528",
   "metadata": {},
   "outputs": [],
   "source": []
  },
  {
   "cell_type": "code",
   "execution_count": 73,
   "id": "90cc8028-1a2c-47bf-92cd-602e7ca18100",
   "metadata": {},
   "outputs": [],
   "source": [
    "df = pd.read_csv(\"/home/luke/jupyterlab/Datasets/titanic/train.csv\")\n",
    "df[\"Age\"] = df[\"Age\"].fillna(df[\"Age\"].mean()).round(2).astype(\"int\")\n",
    "df[\"Sex\"] = df[\"Sex\"].replace([\"male\", \"female\"], [0, 1])\n",
    "df[\"Embarked\"] = (\n",
    "    df[\"Embarked\"].fillna(2).replace([\"C\", \"Q\", \"S\"], [0, 1, 2]).astype(\"int\")\n",
    ")\n",
    "df[\"Fare\"] = df[\"Fare\"].astype(\"int\")\n",
    "df[\"isalone\"] = np.where((df[\"SibSp\"] == 0) & (df[\"Parch\"] == 0), 1, 0)\n",
    "df[\"first_name\"] = df[\"Name\"].apply(get_first_name)\n",
    "df[\"first_name_len\"] = df[\"first_name\"].apply(len_of_string)\n",
    "df[\"last_name\"] = df[\"Name\"].apply(get_last_name)\n",
    "df[\"last_name_len\"] = df[\"last_name\"].apply(len_of_string)\n",
    "\n",
    "\n",
    "df = df.drop([\"Ticket\", \"Cabin\"], axis=1)"
   ]
  },
  {
   "cell_type": "code",
   "execution_count": 50,
   "id": "c16ba427-0801-4bb9-9800-ab5b7b264817",
   "metadata": {},
   "outputs": [],
   "source": [
    "df_stand = df[\n",
    "    [\n",
    "        \"Pclass\",\n",
    "        \"Sex\",\n",
    "        \"Age\",\n",
    "        \"SibSp\",\n",
    "        \"Parch\",\n",
    "        \"Fare\",\n",
    "        \"Embarked\",\n",
    "        \"isalone\",\n",
    "        \"first_name_len\",\n",
    "        \"last_name_len\",\n",
    "    ]\n",
    "]"
   ]
  },
  {
   "cell_type": "code",
   "execution_count": 51,
   "id": "fccb1cd0-3a63-4343-9b3f-fd6483f9066c",
   "metadata": {},
   "outputs": [],
   "source": [
    "scaler = StandardScaler()\n",
    "df_stand = pd.DataFrame(scaler.fit_transform(df_stand), columns=df_stand.columns)\n",
    "df_stand[\"Survived\"] = df[\"Survived\"]"
   ]
  },
  {
   "cell_type": "code",
   "execution_count": 52,
   "id": "9b8e828a-68dd-4594-90a2-292cc39bc7a4",
   "metadata": {},
   "outputs": [
    {
     "name": "stdout",
     "output_type": "stream",
     "text": [
      "accuracy:0.7937219730941704\n",
      "accuracy:0.7847533632286996\n",
      "accuracy:0.8026905829596412\n",
      "accuracy:0.8071748878923767\n",
      "accuracy:0.8161434977578476\n",
      "accuracy:0.7982062780269058\n",
      "accuracy:0.7982062780269058\n",
      "accuracy:0.7533632286995515\n",
      "accuracy:0.8295964125560538\n",
      "accuracy:0.8340807174887892\n"
     ]
    }
   ],
   "source": [
    "for n in range(1, len(df_stand.columns)):\n",
    "    test = SelectKBest(score_func=f_classif, k=n)\n",
    "    fit = test.fit(df_stand.drop(\"Survived\", axis=1), df_stand[\"Survived\"])\n",
    "    features_to_fit = fit.get_feature_names_out()\n",
    "    features = df_stand[features_to_fit]\n",
    "    target = df_stand[\"Survived\"]\n",
    "    X_train, X_test, y_train, y_test = train_test_split(\n",
    "        features, target, test_size=0.25\n",
    "    )\n",
    "    clf = RandomForestClassifier(n_estimators=100)\n",
    "    clf.fit(X_train, y_train)\n",
    "    y_pred = clf.predict(X_test)\n",
    "    print(f\"accuracy:{accuracy_score(y_test, y_pred)}\")"
   ]
  },
  {
   "cell_type": "code",
   "execution_count": 53,
   "id": "bf3223cc-d3ac-4040-a819-95bded54a7c5",
   "metadata": {},
   "outputs": [],
   "source": [
    "clf_result = pd.DataFrame(clf.predict_proba(X_test))\n",
    "clf_result[\"pred\"] = y_pred\n",
    "clf_result[\"true\"] = y_test.reset_index(drop=True)"
   ]
  },
  {
   "cell_type": "code",
   "execution_count": 54,
   "id": "637a1808-c0a1-4bea-9d5b-402ab5e8b870",
   "metadata": {},
   "outputs": [
    {
     "data": {
      "text/html": [
       "<div>\n",
       "<style scoped>\n",
       "    .dataframe tbody tr th:only-of-type {\n",
       "        vertical-align: middle;\n",
       "    }\n",
       "\n",
       "    .dataframe tbody tr th {\n",
       "        vertical-align: top;\n",
       "    }\n",
       "\n",
       "    .dataframe thead th {\n",
       "        text-align: right;\n",
       "    }\n",
       "</style>\n",
       "<table border=\"1\" class=\"dataframe\">\n",
       "  <thead>\n",
       "    <tr style=\"text-align: right;\">\n",
       "      <th></th>\n",
       "      <th>0</th>\n",
       "      <th>1</th>\n",
       "      <th>pred</th>\n",
       "      <th>true</th>\n",
       "    </tr>\n",
       "  </thead>\n",
       "  <tbody>\n",
       "    <tr>\n",
       "      <th>0</th>\n",
       "      <td>0.33</td>\n",
       "      <td>0.67</td>\n",
       "      <td>1</td>\n",
       "      <td>0</td>\n",
       "    </tr>\n",
       "    <tr>\n",
       "      <th>1</th>\n",
       "      <td>0.01</td>\n",
       "      <td>0.99</td>\n",
       "      <td>1</td>\n",
       "      <td>1</td>\n",
       "    </tr>\n",
       "    <tr>\n",
       "      <th>2</th>\n",
       "      <td>0.34</td>\n",
       "      <td>0.66</td>\n",
       "      <td>1</td>\n",
       "      <td>1</td>\n",
       "    </tr>\n",
       "    <tr>\n",
       "      <th>3</th>\n",
       "      <td>0.58</td>\n",
       "      <td>0.42</td>\n",
       "      <td>0</td>\n",
       "      <td>0</td>\n",
       "    </tr>\n",
       "    <tr>\n",
       "      <th>4</th>\n",
       "      <td>0.97</td>\n",
       "      <td>0.03</td>\n",
       "      <td>0</td>\n",
       "      <td>0</td>\n",
       "    </tr>\n",
       "    <tr>\n",
       "      <th>...</th>\n",
       "      <td>...</td>\n",
       "      <td>...</td>\n",
       "      <td>...</td>\n",
       "      <td>...</td>\n",
       "    </tr>\n",
       "    <tr>\n",
       "      <th>218</th>\n",
       "      <td>0.08</td>\n",
       "      <td>0.92</td>\n",
       "      <td>1</td>\n",
       "      <td>1</td>\n",
       "    </tr>\n",
       "    <tr>\n",
       "      <th>219</th>\n",
       "      <td>0.43</td>\n",
       "      <td>0.57</td>\n",
       "      <td>1</td>\n",
       "      <td>0</td>\n",
       "    </tr>\n",
       "    <tr>\n",
       "      <th>220</th>\n",
       "      <td>0.12</td>\n",
       "      <td>0.88</td>\n",
       "      <td>1</td>\n",
       "      <td>1</td>\n",
       "    </tr>\n",
       "    <tr>\n",
       "      <th>221</th>\n",
       "      <td>0.83</td>\n",
       "      <td>0.17</td>\n",
       "      <td>0</td>\n",
       "      <td>0</td>\n",
       "    </tr>\n",
       "    <tr>\n",
       "      <th>222</th>\n",
       "      <td>1.00</td>\n",
       "      <td>0.00</td>\n",
       "      <td>0</td>\n",
       "      <td>0</td>\n",
       "    </tr>\n",
       "  </tbody>\n",
       "</table>\n",
       "<p>223 rows × 4 columns</p>\n",
       "</div>"
      ],
      "text/plain": [
       "        0     1  pred  true\n",
       "0    0.33  0.67     1     0\n",
       "1    0.01  0.99     1     1\n",
       "2    0.34  0.66     1     1\n",
       "3    0.58  0.42     0     0\n",
       "4    0.97  0.03     0     0\n",
       "..    ...   ...   ...   ...\n",
       "218  0.08  0.92     1     1\n",
       "219  0.43  0.57     1     0\n",
       "220  0.12  0.88     1     1\n",
       "221  0.83  0.17     0     0\n",
       "222  1.00  0.00     0     0\n",
       "\n",
       "[223 rows x 4 columns]"
      ]
     },
     "execution_count": 54,
     "metadata": {},
     "output_type": "execute_result"
    }
   ],
   "source": [
    "clf_result"
   ]
  },
  {
   "cell_type": "code",
   "execution_count": 55,
   "id": "1df4b723-5ea6-4af8-9a1a-8b5b9ff397a5",
   "metadata": {},
   "outputs": [
    {
     "data": {
      "text/html": [
       "<div>\n",
       "<style scoped>\n",
       "    .dataframe tbody tr th:only-of-type {\n",
       "        vertical-align: middle;\n",
       "    }\n",
       "\n",
       "    .dataframe tbody tr th {\n",
       "        vertical-align: top;\n",
       "    }\n",
       "\n",
       "    .dataframe thead th {\n",
       "        text-align: right;\n",
       "    }\n",
       "</style>\n",
       "<table border=\"1\" class=\"dataframe\">\n",
       "  <thead>\n",
       "    <tr style=\"text-align: right;\">\n",
       "      <th></th>\n",
       "      <th>Pclass</th>\n",
       "      <th>Sex</th>\n",
       "      <th>Age</th>\n",
       "      <th>SibSp</th>\n",
       "      <th>Parch</th>\n",
       "      <th>Fare</th>\n",
       "      <th>Embarked</th>\n",
       "      <th>isalone</th>\n",
       "      <th>first_name_len</th>\n",
       "      <th>last_name_len</th>\n",
       "    </tr>\n",
       "  </thead>\n",
       "  <tbody>\n",
       "    <tr>\n",
       "      <th>0</th>\n",
       "      <td>0.088831</td>\n",
       "      <td>0.259568</td>\n",
       "      <td>0.177389</td>\n",
       "      <td>0.037459</td>\n",
       "      <td>0.028833</td>\n",
       "      <td>0.154646</td>\n",
       "      <td>0.03585</td>\n",
       "      <td>0.017318</td>\n",
       "      <td>0.091967</td>\n",
       "      <td>0.10814</td>\n",
       "    </tr>\n",
       "  </tbody>\n",
       "</table>\n",
       "</div>"
      ],
      "text/plain": [
       "     Pclass       Sex       Age     SibSp     Parch      Fare  Embarked  \\\n",
       "0  0.088831  0.259568  0.177389  0.037459  0.028833  0.154646   0.03585   \n",
       "\n",
       "    isalone  first_name_len  last_name_len  \n",
       "0  0.017318        0.091967        0.10814  "
      ]
     },
     "execution_count": 55,
     "metadata": {},
     "output_type": "execute_result"
    }
   ],
   "source": [
    "feature_importance = pd.DataFrame.from_dict(clf.feature_importances_).T\n",
    "feature_importance.columns = clf.feature_names_in_\n",
    "feature_importance"
   ]
  },
  {
   "cell_type": "code",
   "execution_count": null,
   "id": "fbe32187-e280-459f-9a98-6ccf16e3184c",
   "metadata": {},
   "outputs": [],
   "source": []
  },
  {
   "cell_type": "code",
   "execution_count": null,
   "id": "96cad876-d5b3-485a-8835-f4bfeea71cd7",
   "metadata": {},
   "outputs": [],
   "source": []
  },
  {
   "cell_type": "code",
   "execution_count": null,
   "id": "8a7f20a4-feb5-4f28-856f-4301acc2d5cc",
   "metadata": {},
   "outputs": [],
   "source": []
  },
  {
   "cell_type": "code",
   "execution_count": null,
   "id": "166da331-3f33-4972-8f16-e1cac62d4dd7",
   "metadata": {},
   "outputs": [],
   "source": []
  },
  {
   "cell_type": "code",
   "execution_count": null,
   "id": "48e17bef-13ea-4e14-8a35-c3ea1abb55c5",
   "metadata": {},
   "outputs": [],
   "source": []
  },
  {
   "cell_type": "code",
   "execution_count": null,
   "id": "6ef22a8f-ab5b-48e2-b804-71426be49980",
   "metadata": {},
   "outputs": [],
   "source": []
  },
  {
   "cell_type": "markdown",
   "id": "71212c16-1b69-457d-b857-6d60e67dfbad",
   "metadata": {
    "tags": []
   },
   "source": [
    "# Random Forest with PCA data"
   ]
  },
  {
   "cell_type": "code",
   "execution_count": 24,
   "id": "07a24e70-5f49-421b-ae9f-b761bd16d49a",
   "metadata": {},
   "outputs": [],
   "source": [
    "df = pd.read_csv(\"/home/luke/jupyterlab/Datasets/titanic/train.csv\")\n",
    "df[\"Age\"] = df[\"Age\"].fillna(df[\"Age\"].mean()).round(2).astype(\"int\")\n",
    "df[\"Sex\"] = df[\"Sex\"].replace([\"male\", \"female\"], [0, 1])\n",
    "df[\"Embarked\"] = (\n",
    "    df[\"Embarked\"].fillna(2).replace([\"C\", \"Q\", \"S\"], [0, 1, 2]).astype(\"int\")\n",
    ")\n",
    "df[\"Fare\"] = df[\"Fare\"].astype(\"int\")\n",
    "df[\"isalone\"] = np.where((df[\"SibSp\"] == 0) & (df[\"Parch\"] == 0), 1, 0)\n",
    "df[\"first_name\"] = df[\"Name\"].apply(get_first_name)\n",
    "df[\"first_name_len\"] = df[\"first_name\"].apply(len_of_string)\n",
    "df[\"last_name\"] = df[\"Name\"].apply(get_last_name)\n",
    "df[\"last_name_len\"] = df[\"last_name\"].apply(len_of_string)\n",
    "\n",
    "\n",
    "df = df.drop([\"Ticket\", \"Cabin\"], axis=1)"
   ]
  },
  {
   "cell_type": "code",
   "execution_count": 25,
   "id": "c3a1b5e4-db9d-4859-a568-efc909f1e5ba",
   "metadata": {},
   "outputs": [],
   "source": [
    "df_pca = df[\n",
    "    [\n",
    "        \"Pclass\",\n",
    "        \"Sex\",\n",
    "        \"Age\",\n",
    "        \"SibSp\",\n",
    "        \"Parch\",\n",
    "        \"Fare\",\n",
    "        \"Embarked\",\n",
    "        \"isalone\",\n",
    "        \"first_name_len\",\n",
    "        \"last_name_len\",\n",
    "    ]\n",
    "]"
   ]
  },
  {
   "cell_type": "code",
   "execution_count": 26,
   "id": "c20901fd-47d7-4bf7-bc5a-e09f35569399",
   "metadata": {},
   "outputs": [],
   "source": [
    "scaler = StandardScaler()\n",
    "df_stand = pd.DataFrame(scaler.fit_transform(df_pca), columns=df_pca.columns)\n",
    "# df_stand[\"Survived\"] = df[\"Survived\"]"
   ]
  },
  {
   "cell_type": "code",
   "execution_count": 27,
   "id": "4390b734-d037-41ff-bfb1-fba552eb4bbc",
   "metadata": {},
   "outputs": [],
   "source": [
    "pca = PCA(n_components=len(df_stand.columns))"
   ]
  },
  {
   "cell_type": "code",
   "execution_count": 28,
   "id": "5515ff63-cab4-4f8e-b8af-5de0b2e2ca02",
   "metadata": {},
   "outputs": [
    {
     "data": {
      "text/html": [
       "<style>#sk-container-id-3 {color: black;background-color: white;}#sk-container-id-3 pre{padding: 0;}#sk-container-id-3 div.sk-toggleable {background-color: white;}#sk-container-id-3 label.sk-toggleable__label {cursor: pointer;display: block;width: 100%;margin-bottom: 0;padding: 0.3em;box-sizing: border-box;text-align: center;}#sk-container-id-3 label.sk-toggleable__label-arrow:before {content: \"▸\";float: left;margin-right: 0.25em;color: #696969;}#sk-container-id-3 label.sk-toggleable__label-arrow:hover:before {color: black;}#sk-container-id-3 div.sk-estimator:hover label.sk-toggleable__label-arrow:before {color: black;}#sk-container-id-3 div.sk-toggleable__content {max-height: 0;max-width: 0;overflow: hidden;text-align: left;background-color: #f0f8ff;}#sk-container-id-3 div.sk-toggleable__content pre {margin: 0.2em;color: black;border-radius: 0.25em;background-color: #f0f8ff;}#sk-container-id-3 input.sk-toggleable__control:checked~div.sk-toggleable__content {max-height: 200px;max-width: 100%;overflow: auto;}#sk-container-id-3 input.sk-toggleable__control:checked~label.sk-toggleable__label-arrow:before {content: \"▾\";}#sk-container-id-3 div.sk-estimator input.sk-toggleable__control:checked~label.sk-toggleable__label {background-color: #d4ebff;}#sk-container-id-3 div.sk-label input.sk-toggleable__control:checked~label.sk-toggleable__label {background-color: #d4ebff;}#sk-container-id-3 input.sk-hidden--visually {border: 0;clip: rect(1px 1px 1px 1px);clip: rect(1px, 1px, 1px, 1px);height: 1px;margin: -1px;overflow: hidden;padding: 0;position: absolute;width: 1px;}#sk-container-id-3 div.sk-estimator {font-family: monospace;background-color: #f0f8ff;border: 1px dotted black;border-radius: 0.25em;box-sizing: border-box;margin-bottom: 0.5em;}#sk-container-id-3 div.sk-estimator:hover {background-color: #d4ebff;}#sk-container-id-3 div.sk-parallel-item::after {content: \"\";width: 100%;border-bottom: 1px solid gray;flex-grow: 1;}#sk-container-id-3 div.sk-label:hover label.sk-toggleable__label {background-color: #d4ebff;}#sk-container-id-3 div.sk-serial::before {content: \"\";position: absolute;border-left: 1px solid gray;box-sizing: border-box;top: 0;bottom: 0;left: 50%;z-index: 0;}#sk-container-id-3 div.sk-serial {display: flex;flex-direction: column;align-items: center;background-color: white;padding-right: 0.2em;padding-left: 0.2em;position: relative;}#sk-container-id-3 div.sk-item {position: relative;z-index: 1;}#sk-container-id-3 div.sk-parallel {display: flex;align-items: stretch;justify-content: center;background-color: white;position: relative;}#sk-container-id-3 div.sk-item::before, #sk-container-id-3 div.sk-parallel-item::before {content: \"\";position: absolute;border-left: 1px solid gray;box-sizing: border-box;top: 0;bottom: 0;left: 50%;z-index: -1;}#sk-container-id-3 div.sk-parallel-item {display: flex;flex-direction: column;z-index: 1;position: relative;background-color: white;}#sk-container-id-3 div.sk-parallel-item:first-child::after {align-self: flex-end;width: 50%;}#sk-container-id-3 div.sk-parallel-item:last-child::after {align-self: flex-start;width: 50%;}#sk-container-id-3 div.sk-parallel-item:only-child::after {width: 0;}#sk-container-id-3 div.sk-dashed-wrapped {border: 1px dashed gray;margin: 0 0.4em 0.5em 0.4em;box-sizing: border-box;padding-bottom: 0.4em;background-color: white;}#sk-container-id-3 div.sk-label label {font-family: monospace;font-weight: bold;display: inline-block;line-height: 1.2em;}#sk-container-id-3 div.sk-label-container {text-align: center;}#sk-container-id-3 div.sk-container {/* jupyter's `normalize.less` sets `[hidden] { display: none; }` but bootstrap.min.css set `[hidden] { display: none !important; }` so we also need the `!important` here to be able to override the default hidden behavior on the sphinx rendered scikit-learn.org. See: https://github.com/scikit-learn/scikit-learn/issues/21755 */display: inline-block !important;position: relative;}#sk-container-id-3 div.sk-text-repr-fallback {display: none;}</style><div id=\"sk-container-id-3\" class=\"sk-top-container\"><div class=\"sk-text-repr-fallback\"><pre>PCA(n_components=10)</pre><b>In a Jupyter environment, please rerun this cell to show the HTML representation or trust the notebook. <br />On GitHub, the HTML representation is unable to render, please try loading this page with nbviewer.org.</b></div><div class=\"sk-container\" hidden><div class=\"sk-item\"><div class=\"sk-estimator sk-toggleable\"><input class=\"sk-toggleable__control sk-hidden--visually\" id=\"sk-estimator-id-3\" type=\"checkbox\" checked><label for=\"sk-estimator-id-3\" class=\"sk-toggleable__label sk-toggleable__label-arrow\">PCA</label><div class=\"sk-toggleable__content\"><pre>PCA(n_components=10)</pre></div></div></div></div></div>"
      ],
      "text/plain": [
       "PCA(n_components=10)"
      ]
     },
     "execution_count": 28,
     "metadata": {},
     "output_type": "execute_result"
    }
   ],
   "source": [
    "pca.fit(df_stand)"
   ]
  },
  {
   "cell_type": "code",
   "execution_count": 29,
   "id": "40b06b70-d6c1-4c9d-847c-887e5c41ec1c",
   "metadata": {},
   "outputs": [],
   "source": [
    "principal_components = pd.DataFrame(pca.components_, columns=df_stand.columns)"
   ]
  },
  {
   "cell_type": "code",
   "execution_count": 31,
   "id": "68e965a2-5829-4689-b4b4-7a31c1e70a27",
   "metadata": {},
   "outputs": [],
   "source": [
    "eigen_vals = pd.Series(pca.explained_variance_ratio_)"
   ]
  },
  {
   "cell_type": "code",
   "execution_count": 35,
   "id": "7608d9db-aa59-45f7-af3d-8d861421f566",
   "metadata": {},
   "outputs": [],
   "source": [
    "df_pca = pd.DataFrame(pca.transform(df_stand))"
   ]
  },
  {
   "cell_type": "code",
   "execution_count": 37,
   "id": "31f3a935-abf3-44c8-8b5f-82ec3dfe9191",
   "metadata": {},
   "outputs": [],
   "source": [
    "df_pca[\"Survived\"] = df[\"Survived\"]"
   ]
  },
  {
   "cell_type": "code",
   "execution_count": 49,
   "id": "bd96b99a-68c9-4085-b49b-3602bed95145",
   "metadata": {},
   "outputs": [
    {
     "name": "stdout",
     "output_type": "stream",
     "text": [
      "accuracy:0.8435754189944135\n"
     ]
    }
   ],
   "source": [
    "features = df_pca.drop(\"Survived\", axis=1)\n",
    "target = df_pca[\"Survived\"]\n",
    "X_train, X_test, y_train, y_test = train_test_split(features, target, test_size=0.2)\n",
    "clf = RandomForestClassifier(n_estimators=100)\n",
    "clf.fit(X_train, y_train)\n",
    "y_pred = clf.predict(X_test)\n",
    "print(f\"accuracy:{accuracy_score(y_test, y_pred)}\")"
   ]
  },
  {
   "cell_type": "markdown",
   "id": "311493cf-c55b-4c5a-b243-e2682410a652",
   "metadata": {
    "jp-MarkdownHeadingCollapsed": true,
    "tags": []
   },
   "source": [
    "# Random forest with full data"
   ]
  },
  {
   "cell_type": "code",
   "execution_count": 61,
   "id": "f152942e-b6c4-478e-a8d4-14b5fa0330cd",
   "metadata": {},
   "outputs": [],
   "source": [
    "df_train = pd.read_csv(r\"C:\\Users\\Luke Chesley\\jupyterlab/Datasets/titanic/train.csv\")\n",
    "df_test = pd.read_csv(r\"C:\\Users\\Luke Chesley\\jupyterlab/Datasets/titanic/test.csv\")"
   ]
  },
  {
   "cell_type": "markdown",
   "id": "71a3b601-5320-434e-95bf-3a59310288c0",
   "metadata": {},
   "source": [
    "null fare in df_test @ idx 152"
   ]
  },
  {
   "cell_type": "code",
   "execution_count": 4,
   "id": "c486d2db-8480-49a4-95d6-60e4976ac8e1",
   "metadata": {},
   "outputs": [
    {
     "data": {
      "text/plain": [
       "Int64Index([152], dtype='int64')"
      ]
     },
     "execution_count": 4,
     "metadata": {},
     "output_type": "execute_result"
    }
   ],
   "source": [
    "df_test[\"Fare\"].index[df_test[\"Fare\"].apply(np.isnan)]"
   ]
  },
  {
   "cell_type": "markdown",
   "id": "855e2cb2-d84d-40cd-b845-9d02fc4d9853",
   "metadata": {},
   "source": [
    "In class 3, will assign mean of class 3 fare"
   ]
  },
  {
   "cell_type": "code",
   "execution_count": 5,
   "id": "5a4de47e-2327-4bc6-bd9d-affbc872edf2",
   "metadata": {},
   "outputs": [
    {
     "name": "stderr",
     "output_type": "stream",
     "text": [
      "C:\\Users\\Luke Chesley\\AppData\\Local\\Temp\\ipykernel_14956\\2092446825.py:1: SettingWithCopyWarning: \n",
      "A value is trying to be set on a copy of a slice from a DataFrame\n",
      "\n",
      "See the caveats in the documentation: https://pandas.pydata.org/pandas-docs/stable/user_guide/indexing.html#returning-a-view-versus-a-copy\n",
      "  df_test[\"Fare\"][152] = df_test.query(f\"Pclass == 3\")[\"Fare\"].mean()\n"
     ]
    }
   ],
   "source": [
    "df_test[\"Fare\"][152] = df_test.query(f\"Pclass == 3\")[\"Fare\"].mean()"
   ]
  },
  {
   "cell_type": "code",
   "execution_count": 7,
   "id": "5c267969-34b0-410a-bee1-a1e5508d4a7c",
   "metadata": {},
   "outputs": [],
   "source": [
    "def len_of_string(string):\n",
    "    return len(string)"
   ]
  },
  {
   "cell_type": "code",
   "execution_count": 8,
   "id": "d1676ff3-939c-4427-9e11-465f2ac9fc80",
   "metadata": {},
   "outputs": [],
   "source": [
    "df_train[\"name_len\"] = df_train[\"Name\"].apply(len_of_string)\n",
    "df_train[\"Age\"] = df_train[\"Age\"].fillna(df_train[\"Age\"].mean()).round(2).astype(\"int\")\n",
    "df_train[\"Sex\"] = df_train[\"Sex\"].replace([\"male\", \"female\"], [0, 1])\n",
    "df_train[\"Embarked\"] = (\n",
    "    df_train[\"Embarked\"].fillna(2).replace([\"C\", \"Q\", \"S\"], [0, 1, 2]).astype(\"int\")\n",
    ")\n",
    "df_train[\"Fare\"] = df_train[\"Fare\"].astype(\"int\")\n",
    "\n",
    "df_test[\"name_len\"] = df_test[\"Name\"].apply(len_of_string)\n",
    "df_test[\"Age\"] = df_test[\"Age\"].fillna(df_test[\"Age\"].mean()).round(2).astype(\"int\")\n",
    "df_test[\"Sex\"] = df_test[\"Sex\"].replace([\"male\", \"female\"], [0, 1])\n",
    "df_test[\"Embarked\"] = (\n",
    "    df_test[\"Embarked\"].fillna(2).replace([\"C\", \"Q\", \"S\"], [0, 1, 2]).astype(\"int\")\n",
    ")\n",
    "df_test[\"Fare\"] = df_test[\"Fare\"].astype(\"int\")"
   ]
  },
  {
   "cell_type": "code",
   "execution_count": 10,
   "id": "558c3d38-a841-49a4-84c9-551bc2c922a6",
   "metadata": {},
   "outputs": [],
   "source": [
    "df_tree = df_train[\n",
    "    [\n",
    "        \"Survived\",\n",
    "        \"Pclass\",\n",
    "        \"Sex\",\n",
    "        \"Age\",\n",
    "        \"SibSp\",\n",
    "        \"Parch\",\n",
    "        \"Fare\",\n",
    "        \"Embarked\",\n",
    "        \"name_len\",\n",
    "    ]\n",
    "]"
   ]
  },
  {
   "cell_type": "code",
   "execution_count": 16,
   "id": "4fa5c8a2-d75e-4d09-8c3d-4fbfd60a7fa1",
   "metadata": {},
   "outputs": [],
   "source": [
    "test = SelectKBest(score_func=f_classif, k=8)\n",
    "fit = test.fit(df_tree.drop(\"Survived\", axis=1), df_tree[\"Survived\"])\n",
    "features_to_fit = fit.get_feature_names_out()\n",
    "features = df_tree[features_to_fit]\n",
    "target = df_tree[\"Survived\"]\n",
    "clf = RandomForestClassifier(n_estimators=100)\n",
    "clf.fit(features, target)\n",
    "\n",
    "y_pred = clf.predict(df_test[features_to_fit])\n",
    "clf_result = pd.DataFrame(clf.predict_proba(df_test[features_to_fit]))\n",
    "clf_result[\"Survived\"] = y_pred\n",
    "clf_result[\"PassengerId\"] = df_test[\"PassengerId\"]\n",
    "clf_result = clf_result[[\"PassengerId\", \"Survived\", 0, 1]]"
   ]
  },
  {
   "cell_type": "code",
   "execution_count": 17,
   "id": "34a2c03b-bebb-42d3-94d6-c0229e050b3d",
   "metadata": {},
   "outputs": [
    {
     "data": {
      "text/html": [
       "<div>\n",
       "<style scoped>\n",
       "    .dataframe tbody tr th:only-of-type {\n",
       "        vertical-align: middle;\n",
       "    }\n",
       "\n",
       "    .dataframe tbody tr th {\n",
       "        vertical-align: top;\n",
       "    }\n",
       "\n",
       "    .dataframe thead th {\n",
       "        text-align: right;\n",
       "    }\n",
       "</style>\n",
       "<table border=\"1\" class=\"dataframe\">\n",
       "  <thead>\n",
       "    <tr style=\"text-align: right;\">\n",
       "      <th></th>\n",
       "      <th>PassengerId</th>\n",
       "      <th>Survived</th>\n",
       "      <th>0</th>\n",
       "      <th>1</th>\n",
       "    </tr>\n",
       "  </thead>\n",
       "  <tbody>\n",
       "    <tr>\n",
       "      <th>0</th>\n",
       "      <td>892</td>\n",
       "      <td>0</td>\n",
       "      <td>0.990000</td>\n",
       "      <td>0.010000</td>\n",
       "    </tr>\n",
       "    <tr>\n",
       "      <th>1</th>\n",
       "      <td>893</td>\n",
       "      <td>0</td>\n",
       "      <td>0.720000</td>\n",
       "      <td>0.280000</td>\n",
       "    </tr>\n",
       "    <tr>\n",
       "      <th>2</th>\n",
       "      <td>894</td>\n",
       "      <td>0</td>\n",
       "      <td>0.783881</td>\n",
       "      <td>0.216119</td>\n",
       "    </tr>\n",
       "    <tr>\n",
       "      <th>3</th>\n",
       "      <td>895</td>\n",
       "      <td>0</td>\n",
       "      <td>0.710000</td>\n",
       "      <td>0.290000</td>\n",
       "    </tr>\n",
       "    <tr>\n",
       "      <th>4</th>\n",
       "      <td>896</td>\n",
       "      <td>0</td>\n",
       "      <td>0.540000</td>\n",
       "      <td>0.460000</td>\n",
       "    </tr>\n",
       "    <tr>\n",
       "      <th>...</th>\n",
       "      <td>...</td>\n",
       "      <td>...</td>\n",
       "      <td>...</td>\n",
       "      <td>...</td>\n",
       "    </tr>\n",
       "    <tr>\n",
       "      <th>413</th>\n",
       "      <td>1305</td>\n",
       "      <td>0</td>\n",
       "      <td>0.960000</td>\n",
       "      <td>0.040000</td>\n",
       "    </tr>\n",
       "    <tr>\n",
       "      <th>414</th>\n",
       "      <td>1306</td>\n",
       "      <td>1</td>\n",
       "      <td>0.010000</td>\n",
       "      <td>0.990000</td>\n",
       "    </tr>\n",
       "    <tr>\n",
       "      <th>415</th>\n",
       "      <td>1307</td>\n",
       "      <td>0</td>\n",
       "      <td>1.000000</td>\n",
       "      <td>0.000000</td>\n",
       "    </tr>\n",
       "    <tr>\n",
       "      <th>416</th>\n",
       "      <td>1308</td>\n",
       "      <td>0</td>\n",
       "      <td>0.960000</td>\n",
       "      <td>0.040000</td>\n",
       "    </tr>\n",
       "    <tr>\n",
       "      <th>417</th>\n",
       "      <td>1309</td>\n",
       "      <td>0</td>\n",
       "      <td>0.537143</td>\n",
       "      <td>0.462857</td>\n",
       "    </tr>\n",
       "  </tbody>\n",
       "</table>\n",
       "<p>418 rows × 4 columns</p>\n",
       "</div>"
      ],
      "text/plain": [
       "     PassengerId  Survived         0         1\n",
       "0            892         0  0.990000  0.010000\n",
       "1            893         0  0.720000  0.280000\n",
       "2            894         0  0.783881  0.216119\n",
       "3            895         0  0.710000  0.290000\n",
       "4            896         0  0.540000  0.460000\n",
       "..           ...       ...       ...       ...\n",
       "413         1305         0  0.960000  0.040000\n",
       "414         1306         1  0.010000  0.990000\n",
       "415         1307         0  1.000000  0.000000\n",
       "416         1308         0  0.960000  0.040000\n",
       "417         1309         0  0.537143  0.462857\n",
       "\n",
       "[418 rows x 4 columns]"
      ]
     },
     "execution_count": 17,
     "metadata": {},
     "output_type": "execute_result"
    }
   ],
   "source": [
    "clf_result"
   ]
  },
  {
   "cell_type": "code",
   "execution_count": 18,
   "id": "029334dc-baa9-497a-a5b1-f1ebda2fb5c4",
   "metadata": {},
   "outputs": [
    {
     "data": {
      "text/html": [
       "<div>\n",
       "<style scoped>\n",
       "    .dataframe tbody tr th:only-of-type {\n",
       "        vertical-align: middle;\n",
       "    }\n",
       "\n",
       "    .dataframe tbody tr th {\n",
       "        vertical-align: top;\n",
       "    }\n",
       "\n",
       "    .dataframe thead th {\n",
       "        text-align: right;\n",
       "    }\n",
       "</style>\n",
       "<table border=\"1\" class=\"dataframe\">\n",
       "  <thead>\n",
       "    <tr style=\"text-align: right;\">\n",
       "      <th></th>\n",
       "      <th>Pclass</th>\n",
       "      <th>Sex</th>\n",
       "      <th>Age</th>\n",
       "      <th>SibSp</th>\n",
       "      <th>Parch</th>\n",
       "      <th>Fare</th>\n",
       "      <th>Embarked</th>\n",
       "      <th>name_len</th>\n",
       "    </tr>\n",
       "  </thead>\n",
       "  <tbody>\n",
       "    <tr>\n",
       "      <th>0</th>\n",
       "      <td>0.082465</td>\n",
       "      <td>0.233312</td>\n",
       "      <td>0.202633</td>\n",
       "      <td>0.042454</td>\n",
       "      <td>0.032653</td>\n",
       "      <td>0.157698</td>\n",
       "      <td>0.036526</td>\n",
       "      <td>0.212259</td>\n",
       "    </tr>\n",
       "  </tbody>\n",
       "</table>\n",
       "</div>"
      ],
      "text/plain": [
       "     Pclass       Sex       Age     SibSp     Parch      Fare  Embarked  \\\n",
       "0  0.082465  0.233312  0.202633  0.042454  0.032653  0.157698  0.036526   \n",
       "\n",
       "   name_len  \n",
       "0  0.212259  "
      ]
     },
     "execution_count": 18,
     "metadata": {},
     "output_type": "execute_result"
    }
   ],
   "source": [
    "feature_importance = pd.DataFrame.from_dict(clf.feature_importances_).T\n",
    "feature_importance.columns = clf.feature_names_in_\n",
    "feature_importance"
   ]
  },
  {
   "cell_type": "code",
   "execution_count": 30,
   "id": "acaf9c89-65c2-4e6d-ad9c-989001773cb4",
   "metadata": {},
   "outputs": [],
   "source": [
    "path = r\"C:\\Users\\Luke Chesley\\jupyterlab/Datasets/titanic/\""
   ]
  },
  {
   "cell_type": "code",
   "execution_count": 31,
   "id": "ed02f53f-3fcc-46bb-9206-f4582e5cb280",
   "metadata": {},
   "outputs": [],
   "source": [
    "final_results_sub = clf_result[[\"PassengerId\", \"Survived\"]]"
   ]
  },
  {
   "cell_type": "code",
   "execution_count": 32,
   "id": "33bbe327-d14b-4a08-bcd5-4f2781dfc3b0",
   "metadata": {},
   "outputs": [],
   "source": [
    "final_results_sub.to_csv(path + \"titanic_sub_2.csv\", index=False, encoding=\"utf-8\")"
   ]
  },
  {
   "cell_type": "code",
   "execution_count": null,
   "id": "92029f56-928a-44c5-ae9b-5fa84035b587",
   "metadata": {},
   "outputs": [],
   "source": []
  },
  {
   "cell_type": "markdown",
   "id": "ffd189fd-e5e7-489a-bb9e-af0e06f9e28a",
   "metadata": {
    "jp-MarkdownHeadingCollapsed": true,
    "tags": []
   },
   "source": [
    "# Auto ML"
   ]
  },
  {
   "cell_type": "code",
   "execution_count": null,
   "id": "e6f794d8-1577-4778-99f9-3e0e66a45832",
   "metadata": {},
   "outputs": [],
   "source": [
    "X = df.drop(\"Survived\", axis=1)\n",
    "y = df[\"Survived\"]\n",
    "X_train, X_test, y_train, y_test = train_test_split(X, y, test_size=0.2, shuffle=True)\n",
    "automl = AutoML()\n",
    "automl.fit(X_train, y_train, task=\"classification\", metric=\"macro_f1\", time_budget=60)\n",
    ";"
   ]
  },
  {
   "cell_type": "code",
   "execution_count": 53,
   "id": "3de2cbe9-40e6-4cc5-91bd-6a919e5dcf2d",
   "metadata": {},
   "outputs": [
    {
     "name": "stdout",
     "output_type": "stream",
     "text": [
      "Best ML leaner: lgbm\n",
      "Best hyperparmeter config: {'n_estimators': 28, 'num_leaves': 7, 'min_child_samples': 2, 'learning_rate': 0.19269147538835465, 'log_max_bin': 9, 'colsample_bytree': 0.9803618227602316, 'reg_alpha': 0.002829276211858958, 'reg_lambda': 0.7184191782424573}\n",
      "Best macro_f1 on validation data: 0.8063\n",
      "Training duration of best run: 0.1008 s\n"
     ]
    }
   ],
   "source": [
    "print(\"Best ML leaner:\", automl.best_estimator)\n",
    "print(\"Best hyperparmeter config:\", automl.best_config)\n",
    "print(\"Best macro_f1 on validation data: {0:.4g}\".format(1 - automl.best_loss))\n",
    "print(\"Training duration of best run: {0:.4g} s\".format(automl.best_config_train_time))\n",
    "\n",
    "print(classification_report(y_train, automl.predict(X_train)))\n",
    "\n",
    "print(classification_report(y_test, automl.predict(X_test)))"
   ]
  },
  {
   "cell_type": "code",
   "execution_count": 55,
   "id": "ad4a9538-500e-4a33-a7b5-ed722b81d0de",
   "metadata": {},
   "outputs": [
    {
     "name": "stdout",
     "output_type": "stream",
     "text": [
      "              precision    recall  f1-score   support\n",
      "\n",
      "           0       0.87      0.96      0.91       434\n",
      "           1       0.92      0.77      0.84       278\n",
      "\n",
      "    accuracy                           0.88       712\n",
      "   macro avg       0.89      0.86      0.87       712\n",
      "weighted avg       0.89      0.88      0.88       712\n",
      "\n"
     ]
    }
   ],
   "source": []
  },
  {
   "cell_type": "code",
   "execution_count": 56,
   "id": "083190a8-58b0-4f55-af57-ff3fe1b3e999",
   "metadata": {},
   "outputs": [
    {
     "name": "stdout",
     "output_type": "stream",
     "text": [
      "              precision    recall  f1-score   support\n",
      "\n",
      "           0       0.85      0.91      0.88       115\n",
      "           1       0.82      0.70      0.76        64\n",
      "\n",
      "    accuracy                           0.84       179\n",
      "   macro avg       0.83      0.81      0.82       179\n",
      "weighted avg       0.84      0.84      0.83       179\n",
      "\n"
     ]
    }
   ],
   "source": []
  },
  {
   "cell_type": "code",
   "execution_count": 57,
   "id": "a0d89562-4cae-4537-9193-c69a02e35e0e",
   "metadata": {},
   "outputs": [],
   "source": [
    "preds = automl.predict(df.drop(\"Survived\", axis=1))"
   ]
  },
  {
   "cell_type": "code",
   "execution_count": 58,
   "id": "dbc26257-920a-4835-b58f-754b6b955eab",
   "metadata": {},
   "outputs": [],
   "source": [
    "df[\"automl_preds\"] = preds"
   ]
  },
  {
   "cell_type": "code",
   "execution_count": 59,
   "id": "c1f63f62-689d-417e-8f00-aac4dac9558c",
   "metadata": {},
   "outputs": [
    {
     "data": {
      "text/html": [
       "<div>\n",
       "<style scoped>\n",
       "    .dataframe tbody tr th:only-of-type {\n",
       "        vertical-align: middle;\n",
       "    }\n",
       "\n",
       "    .dataframe tbody tr th {\n",
       "        vertical-align: top;\n",
       "    }\n",
       "\n",
       "    .dataframe thead th {\n",
       "        text-align: right;\n",
       "    }\n",
       "</style>\n",
       "<table border=\"1\" class=\"dataframe\">\n",
       "  <thead>\n",
       "    <tr style=\"text-align: right;\">\n",
       "      <th></th>\n",
       "      <th>Survived</th>\n",
       "      <th>automl_preds</th>\n",
       "    </tr>\n",
       "  </thead>\n",
       "  <tbody>\n",
       "    <tr>\n",
       "      <th>0</th>\n",
       "      <td>0</td>\n",
       "      <td>0</td>\n",
       "    </tr>\n",
       "    <tr>\n",
       "      <th>1</th>\n",
       "      <td>1</td>\n",
       "      <td>1</td>\n",
       "    </tr>\n",
       "    <tr>\n",
       "      <th>2</th>\n",
       "      <td>1</td>\n",
       "      <td>1</td>\n",
       "    </tr>\n",
       "    <tr>\n",
       "      <th>3</th>\n",
       "      <td>1</td>\n",
       "      <td>1</td>\n",
       "    </tr>\n",
       "    <tr>\n",
       "      <th>4</th>\n",
       "      <td>0</td>\n",
       "      <td>0</td>\n",
       "    </tr>\n",
       "    <tr>\n",
       "      <th>...</th>\n",
       "      <td>...</td>\n",
       "      <td>...</td>\n",
       "    </tr>\n",
       "    <tr>\n",
       "      <th>886</th>\n",
       "      <td>0</td>\n",
       "      <td>0</td>\n",
       "    </tr>\n",
       "    <tr>\n",
       "      <th>887</th>\n",
       "      <td>1</td>\n",
       "      <td>1</td>\n",
       "    </tr>\n",
       "    <tr>\n",
       "      <th>888</th>\n",
       "      <td>0</td>\n",
       "      <td>0</td>\n",
       "    </tr>\n",
       "    <tr>\n",
       "      <th>889</th>\n",
       "      <td>1</td>\n",
       "      <td>1</td>\n",
       "    </tr>\n",
       "    <tr>\n",
       "      <th>890</th>\n",
       "      <td>0</td>\n",
       "      <td>0</td>\n",
       "    </tr>\n",
       "  </tbody>\n",
       "</table>\n",
       "<p>891 rows × 2 columns</p>\n",
       "</div>"
      ],
      "text/plain": [
       "     Survived  automl_preds\n",
       "0           0             0\n",
       "1           1             1\n",
       "2           1             1\n",
       "3           1             1\n",
       "4           0             0\n",
       "..        ...           ...\n",
       "886         0             0\n",
       "887         1             1\n",
       "888         0             0\n",
       "889         1             1\n",
       "890         0             0\n",
       "\n",
       "[891 rows x 2 columns]"
      ]
     },
     "execution_count": 59,
     "metadata": {},
     "output_type": "execute_result"
    }
   ],
   "source": [
    "df[[\"Survived\", \"automl_preds\"]]"
   ]
  },
  {
   "cell_type": "markdown",
   "id": "b7c10012-dea5-4d3e-bfda-6fa7e9f961a5",
   "metadata": {
    "tags": []
   },
   "source": [
    "# AutoML with full data"
   ]
  },
  {
   "cell_type": "code",
   "execution_count": 62,
   "id": "a7c653ec-805e-46f2-9017-1bca0e7e10bb",
   "metadata": {},
   "outputs": [],
   "source": [
    "df_train = pd.read_csv(\"/home/luke/jupyterlab/Datasets/titanic/train.csv\")\n",
    "df_test = pd.read_csv(\"/home/luke/jupyterlab/Datasets/titanic/test.csv\")"
   ]
  },
  {
   "cell_type": "code",
   "execution_count": 63,
   "id": "89242121-fe9c-4056-bcd8-687aa754880a",
   "metadata": {},
   "outputs": [
    {
     "data": {
      "text/plain": [
       "Int64Index([152], dtype='int64')"
      ]
     },
     "execution_count": 63,
     "metadata": {},
     "output_type": "execute_result"
    }
   ],
   "source": [
    "df_test[\"Fare\"].index[df_test[\"Fare\"].apply(np.isnan)]"
   ]
  },
  {
   "cell_type": "code",
   "execution_count": null,
   "id": "8f777f5e-26f6-4faf-92ff-5eb9c73db977",
   "metadata": {},
   "outputs": [],
   "source": [
    "df_test[\"Fare\"][152] = df_test.query(f\"Pclass == 3\")[\"Fare\"].mean()"
   ]
  },
  {
   "cell_type": "code",
   "execution_count": 70,
   "id": "98b5711e-adae-41fe-abab-2409cea3d094",
   "metadata": {},
   "outputs": [],
   "source": [
    "df_test.loc[152, \"Fare\"] = df_test.query(f\"Pclass == 3\")[\"Fare\"].mean()"
   ]
  },
  {
   "cell_type": "code",
   "execution_count": null,
   "id": "6059ea5e-db38-4cd1-8a7b-e0ef90078ee9",
   "metadata": {},
   "outputs": [],
   "source": [
    "%%capture --no-display\n",
    "X = df_train.drop(\"Survived\", axis=1)\n",
    "y = df_train[\"Survived\"]\n",
    "#X_train, X_test, y_train, y_test = train_test_split(X, y, test_size=0.4, shuffle=True)\n",
    "automl = AutoML()\n",
    "automl.fit(df_train.drop(\"Survived\", axis=1),  df_train[\"Survived\"], task=\"classification\", metric=\"macro_f1\", time_budget=60,early_stop=True)"
   ]
  },
  {
   "cell_type": "code",
   "execution_count": 123,
   "id": "1fcb05b5-c9ce-4777-91c7-f10b6ee76f51",
   "metadata": {},
   "outputs": [
    {
     "name": "stdout",
     "output_type": "stream",
     "text": [
      "Best ML leaner: xgb_limitdepth\n",
      "Best hyperparmeter config: {'n_estimators': 35, 'max_depth': 4, 'min_child_weight': 0.4758021414376011, 'learning_rate': 0.19526765747155633, 'subsample': 0.989136898992892, 'colsample_bylevel': 0.9351703052369875, 'colsample_bytree': 0.9171427905839893, 'reg_alpha': 0.009487296541348228, 'reg_lambda': 0.2325359383861118}\n",
      "Best macro_f1 on validation data: 0.8243\n",
      "Training duration of best run: 0.1182 s\n",
      "              precision    recall  f1-score   support\n",
      "\n",
      "           0       0.87      0.89      0.88       429\n",
      "           1       0.83      0.81      0.82       283\n",
      "\n",
      "    accuracy                           0.86       712\n",
      "   macro avg       0.85      0.85      0.85       712\n",
      "weighted avg       0.85      0.86      0.86       712\n",
      "\n",
      "              precision    recall  f1-score   support\n",
      "\n",
      "           0       0.92      0.85      0.88       120\n",
      "           1       0.74      0.85      0.79        59\n",
      "\n",
      "    accuracy                           0.85       179\n",
      "   macro avg       0.83      0.85      0.84       179\n",
      "weighted avg       0.86      0.85      0.85       179\n",
      "\n"
     ]
    }
   ],
   "source": [
    "print(\"Best ML leaner:\", automl.best_estimator)\n",
    "print(\"Best hyperparmeter config:\", automl.best_config)\n",
    "print(\"Best macro_f1 on validation data: {0:.4g}\".format(1 - automl.best_loss))\n",
    "print(\"Training duration of best run: {0:.4g} s\".format(automl.best_config_train_time))\n",
    "\n",
    "print(classification_report(y_train, automl.predict(X_train)))\n",
    "\n",
    "print(classification_report(y_test, automl.predict(X_test)))"
   ]
  },
  {
   "cell_type": "code",
   "execution_count": 124,
   "id": "edaaf588-3ecb-45f4-a0b6-d68534837686",
   "metadata": {},
   "outputs": [],
   "source": [
    "preds = automl.predict(df_test)"
   ]
  },
  {
   "cell_type": "code",
   "execution_count": 125,
   "id": "e72edf3e-edcf-4a59-88ad-769a985fafb3",
   "metadata": {},
   "outputs": [],
   "source": [
    "results = pd.DataFrame(preds, columns=[\"Survived\"])"
   ]
  },
  {
   "cell_type": "code",
   "execution_count": 126,
   "id": "a195c317-e646-4206-8a22-d5d9250f77eb",
   "metadata": {},
   "outputs": [],
   "source": [
    "results[\"PassengerId\"] = df_test[\"PassengerId\"]"
   ]
  },
  {
   "cell_type": "code",
   "execution_count": 79,
   "id": "1bed47e9-ef0d-4dfc-9485-507312f8b42d",
   "metadata": {},
   "outputs": [],
   "source": [
    "path = r\"C:\\Users\\Luke Chesley\\jupyterlab/Datasets/titanic/\""
   ]
  },
  {
   "cell_type": "code",
   "execution_count": 128,
   "id": "fb6c63df-57ec-4dfb-9da1-0a69e355a446",
   "metadata": {},
   "outputs": [],
   "source": [
    "final_results_sub = results[[\"PassengerId\", \"Survived\"]]"
   ]
  },
  {
   "cell_type": "code",
   "execution_count": 129,
   "id": "751514c4-c507-4647-80b3-2696762b0e9c",
   "metadata": {},
   "outputs": [],
   "source": [
    "final_results_sub.to_csv(path + \"titanic_sub_4.csv\", index=False, encoding=\"utf-8\")"
   ]
  },
  {
   "cell_type": "markdown",
   "id": "f93de338-40bc-4108-a401-f4d23b271d1b",
   "metadata": {
    "tags": []
   },
   "source": [
    "# Consensus voting"
   ]
  },
  {
   "cell_type": "code",
   "execution_count": 67,
   "id": "e691c814-c61e-49e8-a41d-cb98ea302265",
   "metadata": {},
   "outputs": [],
   "source": [
    "model_1 = pd.read_csv(\n",
    "    r\"C:\\Users\\Luke Chesley\\jupyterlab/Datasets/titanic/titanic_sub_1_forest.csv\"\n",
    ")\n",
    "model_2 = pd.read_csv(\n",
    "    r\"C:\\Users\\Luke Chesley\\jupyterlab/Datasets/titanic/titanic_sub_2_forest.csv\"\n",
    ")\n",
    "model_3 = pd.read_csv(\n",
    "    r\"C:\\Users\\Luke Chesley\\jupyterlab/Datasets/titanic/titanic_sub_3_autoML.csv\"\n",
    ")\n",
    "model_4 = pd.read_csv(\n",
    "    r\"C:\\Users\\Luke Chesley\\jupyterlab/Datasets/titanic/titanic_sub_4_autoML.csv\"\n",
    ")\n",
    "concat = [model_1, model_2, model_3, model_4]"
   ]
  },
  {
   "cell_type": "code",
   "execution_count": 68,
   "id": "31827bba-f677-4a38-8197-85b3b4105ee5",
   "metadata": {},
   "outputs": [],
   "source": [
    "consen_df = pd.concat(concat, axis=1).T.drop_duplicates(keep=False).T"
   ]
  },
  {
   "cell_type": "code",
   "execution_count": 69,
   "id": "44a7d20f-3d5b-49aa-a1bb-3f8ade485996",
   "metadata": {},
   "outputs": [],
   "source": [
    "def tst(row):\n",
    "    return"
   ]
  },
  {
   "cell_type": "code",
   "execution_count": 70,
   "id": "b76910e2-9790-4b86-b711-0b855e20496e",
   "metadata": {},
   "outputs": [],
   "source": [
    "consen_df[\"con\"] = consen_df.apply(np.sum, axis=1)"
   ]
  },
  {
   "cell_type": "code",
   "execution_count": 71,
   "id": "a1d5cd0d-5eb0-448d-84c2-c21afb15700d",
   "metadata": {},
   "outputs": [],
   "source": [
    "consen_df[\"fin\"] = None"
   ]
  },
  {
   "cell_type": "code",
   "execution_count": 72,
   "id": "9e79d8fa-3666-4e1a-9a18-a44ac10c12a3",
   "metadata": {},
   "outputs": [],
   "source": [
    "consen_df.loc[consen_df[\"con\"] >= 3, \"fin\"] = 1\n",
    "consen_df.loc[consen_df[\"con\"] < 3, \"fin\"] = 0"
   ]
  },
  {
   "cell_type": "code",
   "execution_count": 73,
   "id": "e9838266-9288-42b2-bc6f-74c9c77efaa6",
   "metadata": {},
   "outputs": [],
   "source": [
    "results = pd.DataFrame(consen_df[\"fin\"], columns=[\"Survived\"])"
   ]
  },
  {
   "cell_type": "code",
   "execution_count": 74,
   "id": "ce8e50e6-dc45-47b4-967d-6ed75228bd66",
   "metadata": {},
   "outputs": [],
   "source": [
    "results[\"PassengerId\"] = df_test[\"PassengerId\"]"
   ]
  },
  {
   "cell_type": "code",
   "execution_count": 75,
   "id": "321bfd19-f7f9-434f-b3cb-10cae97b5ec1",
   "metadata": {},
   "outputs": [],
   "source": [
    "results = results[[\"PassengerId\", \"Survived\"]]"
   ]
  },
  {
   "cell_type": "code",
   "execution_count": 76,
   "id": "d0f6ca76-3f19-414a-82e0-3b3307327c5f",
   "metadata": {},
   "outputs": [],
   "source": [
    "results[\"Survived\"] = consen_df[\"fin\"]"
   ]
  },
  {
   "cell_type": "code",
   "execution_count": 77,
   "id": "36a374fc-4f05-4952-a165-7673d43c6e85",
   "metadata": {},
   "outputs": [],
   "source": [
    "final_results_sub = results[[\"PassengerId\", \"Survived\"]]"
   ]
  },
  {
   "cell_type": "code",
   "execution_count": 80,
   "id": "9a80e332-e8b1-4d0f-8a51-ae8e33f7cab8",
   "metadata": {},
   "outputs": [
    {
     "data": {
      "text/html": [
       "<div>\n",
       "<style scoped>\n",
       "    .dataframe tbody tr th:only-of-type {\n",
       "        vertical-align: middle;\n",
       "    }\n",
       "\n",
       "    .dataframe tbody tr th {\n",
       "        vertical-align: top;\n",
       "    }\n",
       "\n",
       "    .dataframe thead th {\n",
       "        text-align: right;\n",
       "    }\n",
       "</style>\n",
       "<table border=\"1\" class=\"dataframe\">\n",
       "  <thead>\n",
       "    <tr style=\"text-align: right;\">\n",
       "      <th></th>\n",
       "      <th>PassengerId</th>\n",
       "      <th>Survived</th>\n",
       "    </tr>\n",
       "  </thead>\n",
       "  <tbody>\n",
       "    <tr>\n",
       "      <th>0</th>\n",
       "      <td>892</td>\n",
       "      <td>0</td>\n",
       "    </tr>\n",
       "    <tr>\n",
       "      <th>1</th>\n",
       "      <td>893</td>\n",
       "      <td>0</td>\n",
       "    </tr>\n",
       "    <tr>\n",
       "      <th>2</th>\n",
       "      <td>894</td>\n",
       "      <td>0</td>\n",
       "    </tr>\n",
       "    <tr>\n",
       "      <th>3</th>\n",
       "      <td>895</td>\n",
       "      <td>0</td>\n",
       "    </tr>\n",
       "    <tr>\n",
       "      <th>4</th>\n",
       "      <td>896</td>\n",
       "      <td>0</td>\n",
       "    </tr>\n",
       "    <tr>\n",
       "      <th>...</th>\n",
       "      <td>...</td>\n",
       "      <td>...</td>\n",
       "    </tr>\n",
       "    <tr>\n",
       "      <th>413</th>\n",
       "      <td>1305</td>\n",
       "      <td>0</td>\n",
       "    </tr>\n",
       "    <tr>\n",
       "      <th>414</th>\n",
       "      <td>1306</td>\n",
       "      <td>1</td>\n",
       "    </tr>\n",
       "    <tr>\n",
       "      <th>415</th>\n",
       "      <td>1307</td>\n",
       "      <td>0</td>\n",
       "    </tr>\n",
       "    <tr>\n",
       "      <th>416</th>\n",
       "      <td>1308</td>\n",
       "      <td>0</td>\n",
       "    </tr>\n",
       "    <tr>\n",
       "      <th>417</th>\n",
       "      <td>1309</td>\n",
       "      <td>0</td>\n",
       "    </tr>\n",
       "  </tbody>\n",
       "</table>\n",
       "<p>418 rows × 2 columns</p>\n",
       "</div>"
      ],
      "text/plain": [
       "     PassengerId Survived\n",
       "0            892        0\n",
       "1            893        0\n",
       "2            894        0\n",
       "3            895        0\n",
       "4            896        0\n",
       "..           ...      ...\n",
       "413         1305        0\n",
       "414         1306        1\n",
       "415         1307        0\n",
       "416         1308        0\n",
       "417         1309        0\n",
       "\n",
       "[418 rows x 2 columns]"
      ]
     },
     "execution_count": 80,
     "metadata": {},
     "output_type": "execute_result"
    }
   ],
   "source": [
    "final_results_sub"
   ]
  },
  {
   "cell_type": "code",
   "execution_count": 78,
   "id": "08f5e373-a0b3-47e8-9fda-a810d3813612",
   "metadata": {},
   "outputs": [
    {
     "ename": "NameError",
     "evalue": "name 'path' is not defined",
     "output_type": "error",
     "traceback": [
      "\u001b[1;31m---------------------------------------------------------------------------\u001b[0m",
      "\u001b[1;31mNameError\u001b[0m                                 Traceback (most recent call last)",
      "Cell \u001b[1;32mIn[78], line 2\u001b[0m\n\u001b[0;32m      1\u001b[0m final_results_sub\u001b[38;5;241m.\u001b[39mto_csv(\n\u001b[1;32m----> 2\u001b[0m     \u001b[43mpath\u001b[49m \u001b[38;5;241m+\u001b[39m \u001b[38;5;124m\"\u001b[39m\u001b[38;5;124mtitanic_sub_5_consensus1.csv\u001b[39m\u001b[38;5;124m\"\u001b[39m, index\u001b[38;5;241m=\u001b[39m\u001b[38;5;28;01mFalse\u001b[39;00m, encoding\u001b[38;5;241m=\u001b[39m\u001b[38;5;124m\"\u001b[39m\u001b[38;5;124mutf-8\u001b[39m\u001b[38;5;124m\"\u001b[39m\n\u001b[0;32m      3\u001b[0m )\n",
      "\u001b[1;31mNameError\u001b[0m: name 'path' is not defined"
     ]
    }
   ],
   "source": [
    "final_results_sub.to_csv(\n",
    "    path + \"titanic_sub_5_consensus1.csv\", index=False, encoding=\"utf-8\"\n",
    ")"
   ]
  },
  {
   "cell_type": "markdown",
   "id": "52bcdff7-7fe2-4d91-a263-d680bcf80b63",
   "metadata": {},
   "source": [
    "# Support vector clasification"
   ]
  },
  {
   "cell_type": "code",
   "execution_count": 3,
   "id": "a9710602-7edb-4dc9-a3b1-08285847ba24",
   "metadata": {},
   "outputs": [],
   "source": [
    "df = pd.read_csv(r\"C:\\Users\\Luke Chesley\\jupyterlab/Datasets/titanic/train.csv\")\n",
    "df[\"Age\"] = df[\"Age\"].fillna(df[\"Age\"].mean()).round(2).astype(\"int\")\n",
    "df[\"Sex\"] = df[\"Sex\"].replace([\"male\", \"female\"], [0, 1])\n",
    "df[\"Embarked\"] = (\n",
    "    df[\"Embarked\"].fillna(2).replace([\"C\", \"Q\", \"S\"], [0, 1, 2]).astype(\"int\")\n",
    ")\n",
    "df[\"Fare\"] = df[\"Fare\"].astype(\"int\")\n",
    "df[\"isalone\"] = np.where((df[\"SibSp\"] == 0) & (df[\"Parch\"] == 0), 1, 0)\n",
    "df[\"first_name\"] = df[\"Name\"].apply(get_first_name)\n",
    "df[\"first_name_len\"] = df[\"first_name\"].apply(len_of_string)\n",
    "df[\"last_name\"] = df[\"Name\"].apply(get_last_name)\n",
    "df[\"last_name_len\"] = df[\"last_name\"].apply(len_of_string)\n",
    "df[\"first_let_first_name\"] = df[\"first_name\"].apply(first_let_first_name)\n",
    "df[\"first_let_first_name\"] = df[\"first_let_first_name\"].apply(letter_to_pos_in_alph)\n",
    "\n",
    "\n",
    "df = df.drop([\"Ticket\", \"Cabin\"], axis=1)"
   ]
  },
  {
   "cell_type": "code",
   "execution_count": 56,
   "id": "6eedb7f9-116b-4f22-8142-3224f1226102",
   "metadata": {},
   "outputs": [],
   "source": [
    "df_dum = df[\n",
    "    [\n",
    "        \"Survived\",\n",
    "        \"Pclass\",\n",
    "        \"Sex\",\n",
    "        \"Age\",\n",
    "        \"SibSp\",\n",
    "        \"Parch\",\n",
    "        \"Fare\",\n",
    "        \"Embarked\",\n",
    "        \"isalone\",\n",
    "    ]\n",
    "]"
   ]
  },
  {
   "cell_type": "code",
   "execution_count": 57,
   "id": "923ce485-1271-489c-9029-b2e38b86d74a",
   "metadata": {},
   "outputs": [],
   "source": [
    "class_dum_df = pd.get_dummies(df[\"Pclass\"], prefix=\"class\")\n",
    "embarked_dum_df = pd.get_dummies(df[\"Embarked\"], prefix=\"Embarked\")"
   ]
  },
  {
   "cell_type": "code",
   "execution_count": 58,
   "id": "72513ea7-14a8-4dee-b3fd-019e3ce69264",
   "metadata": {},
   "outputs": [],
   "source": [
    "df_dum = pd.concat([df_dum, class_dum_df], axis=1)\n",
    "df_dum = pd.concat([df_dum, embarked_dum_df], axis=1)\n",
    "df_dum = df_dum.drop([\"Pclass\", \"Embarked\"], axis=1)"
   ]
  },
  {
   "cell_type": "code",
   "execution_count": 59,
   "id": "64b2508f-fa85-4a9d-bcf7-d7eb49b25de8",
   "metadata": {},
   "outputs": [],
   "source": [
    "scaler = StandardScaler()\n",
    "df_dum_scaled = pd.DataFrame(\n",
    "    scaler.fit_transform(df_dum.drop(\"Survived\", axis=1)),\n",
    "    columns=df_dum.drop(\"Survived\", axis=1).columns,\n",
    ")"
   ]
  },
  {
   "cell_type": "code",
   "execution_count": 50,
   "id": "a27db234-c517-45f3-a1ce-4e31e78fd93b",
   "metadata": {},
   "outputs": [],
   "source": [
    "from sklearn.svm import SVC"
   ]
  },
  {
   "cell_type": "code",
   "execution_count": 65,
   "id": "0b54598e-02a9-4cc5-8dfc-b7bd31e0d762",
   "metadata": {},
   "outputs": [],
   "source": [
    "svc = SVC(C=1.5, probability=True)"
   ]
  },
  {
   "cell_type": "code",
   "execution_count": 66,
   "id": "4e1bc9e8-7af8-4920-946a-305adfe13d96",
   "metadata": {},
   "outputs": [],
   "source": [
    "X_train, X_test, y_train, y_test = train_test_split(\n",
    "    df_dum_scaled, df_dum[\"Survived\"], test_size=0.2\n",
    ")"
   ]
  },
  {
   "cell_type": "code",
   "execution_count": 67,
   "id": "f601cc9a-d518-48c7-806f-6617ee1b321d",
   "metadata": {},
   "outputs": [
    {
     "data": {
      "text/html": [
       "<style>#sk-container-id-2 {color: black;background-color: white;}#sk-container-id-2 pre{padding: 0;}#sk-container-id-2 div.sk-toggleable {background-color: white;}#sk-container-id-2 label.sk-toggleable__label {cursor: pointer;display: block;width: 100%;margin-bottom: 0;padding: 0.3em;box-sizing: border-box;text-align: center;}#sk-container-id-2 label.sk-toggleable__label-arrow:before {content: \"▸\";float: left;margin-right: 0.25em;color: #696969;}#sk-container-id-2 label.sk-toggleable__label-arrow:hover:before {color: black;}#sk-container-id-2 div.sk-estimator:hover label.sk-toggleable__label-arrow:before {color: black;}#sk-container-id-2 div.sk-toggleable__content {max-height: 0;max-width: 0;overflow: hidden;text-align: left;background-color: #f0f8ff;}#sk-container-id-2 div.sk-toggleable__content pre {margin: 0.2em;color: black;border-radius: 0.25em;background-color: #f0f8ff;}#sk-container-id-2 input.sk-toggleable__control:checked~div.sk-toggleable__content {max-height: 200px;max-width: 100%;overflow: auto;}#sk-container-id-2 input.sk-toggleable__control:checked~label.sk-toggleable__label-arrow:before {content: \"▾\";}#sk-container-id-2 div.sk-estimator input.sk-toggleable__control:checked~label.sk-toggleable__label {background-color: #d4ebff;}#sk-container-id-2 div.sk-label input.sk-toggleable__control:checked~label.sk-toggleable__label {background-color: #d4ebff;}#sk-container-id-2 input.sk-hidden--visually {border: 0;clip: rect(1px 1px 1px 1px);clip: rect(1px, 1px, 1px, 1px);height: 1px;margin: -1px;overflow: hidden;padding: 0;position: absolute;width: 1px;}#sk-container-id-2 div.sk-estimator {font-family: monospace;background-color: #f0f8ff;border: 1px dotted black;border-radius: 0.25em;box-sizing: border-box;margin-bottom: 0.5em;}#sk-container-id-2 div.sk-estimator:hover {background-color: #d4ebff;}#sk-container-id-2 div.sk-parallel-item::after {content: \"\";width: 100%;border-bottom: 1px solid gray;flex-grow: 1;}#sk-container-id-2 div.sk-label:hover label.sk-toggleable__label {background-color: #d4ebff;}#sk-container-id-2 div.sk-serial::before {content: \"\";position: absolute;border-left: 1px solid gray;box-sizing: border-box;top: 0;bottom: 0;left: 50%;z-index: 0;}#sk-container-id-2 div.sk-serial {display: flex;flex-direction: column;align-items: center;background-color: white;padding-right: 0.2em;padding-left: 0.2em;position: relative;}#sk-container-id-2 div.sk-item {position: relative;z-index: 1;}#sk-container-id-2 div.sk-parallel {display: flex;align-items: stretch;justify-content: center;background-color: white;position: relative;}#sk-container-id-2 div.sk-item::before, #sk-container-id-2 div.sk-parallel-item::before {content: \"\";position: absolute;border-left: 1px solid gray;box-sizing: border-box;top: 0;bottom: 0;left: 50%;z-index: -1;}#sk-container-id-2 div.sk-parallel-item {display: flex;flex-direction: column;z-index: 1;position: relative;background-color: white;}#sk-container-id-2 div.sk-parallel-item:first-child::after {align-self: flex-end;width: 50%;}#sk-container-id-2 div.sk-parallel-item:last-child::after {align-self: flex-start;width: 50%;}#sk-container-id-2 div.sk-parallel-item:only-child::after {width: 0;}#sk-container-id-2 div.sk-dashed-wrapped {border: 1px dashed gray;margin: 0 0.4em 0.5em 0.4em;box-sizing: border-box;padding-bottom: 0.4em;background-color: white;}#sk-container-id-2 div.sk-label label {font-family: monospace;font-weight: bold;display: inline-block;line-height: 1.2em;}#sk-container-id-2 div.sk-label-container {text-align: center;}#sk-container-id-2 div.sk-container {/* jupyter's `normalize.less` sets `[hidden] { display: none; }` but bootstrap.min.css set `[hidden] { display: none !important; }` so we also need the `!important` here to be able to override the default hidden behavior on the sphinx rendered scikit-learn.org. See: https://github.com/scikit-learn/scikit-learn/issues/21755 */display: inline-block !important;position: relative;}#sk-container-id-2 div.sk-text-repr-fallback {display: none;}</style><div id=\"sk-container-id-2\" class=\"sk-top-container\"><div class=\"sk-text-repr-fallback\"><pre>SVC(C=1.5, probability=True)</pre><b>In a Jupyter environment, please rerun this cell to show the HTML representation or trust the notebook. <br />On GitHub, the HTML representation is unable to render, please try loading this page with nbviewer.org.</b></div><div class=\"sk-container\" hidden><div class=\"sk-item\"><div class=\"sk-estimator sk-toggleable\"><input class=\"sk-toggleable__control sk-hidden--visually\" id=\"sk-estimator-id-2\" type=\"checkbox\" checked><label for=\"sk-estimator-id-2\" class=\"sk-toggleable__label sk-toggleable__label-arrow\">SVC</label><div class=\"sk-toggleable__content\"><pre>SVC(C=1.5, probability=True)</pre></div></div></div></div></div>"
      ],
      "text/plain": [
       "SVC(C=1.5, probability=True)"
      ]
     },
     "execution_count": 67,
     "metadata": {},
     "output_type": "execute_result"
    }
   ],
   "source": [
    "svc.fit(X_train, y_train)"
   ]
  },
  {
   "cell_type": "code",
   "execution_count": 68,
   "id": "ad24f186-6412-4aab-8f30-b6769e254021",
   "metadata": {},
   "outputs": [
    {
     "name": "stdout",
     "output_type": "stream",
     "text": [
      "accuracy:0.8212290502793296\n"
     ]
    }
   ],
   "source": [
    "y_pred = svc.predict(X_test)\n",
    "print(f\"accuracy:{accuracy_score(y_test, y_pred)}\")"
   ]
  },
  {
   "cell_type": "markdown",
   "id": "b7a5f74c-39f2-4840-b179-764208a5435c",
   "metadata": {},
   "source": [
    "##  test data"
   ]
  },
  {
   "cell_type": "code",
   "execution_count": 51,
   "id": "326a3982-46e7-4203-ba6f-694f8c5afe4d",
   "metadata": {},
   "outputs": [],
   "source": [
    "df_train = pd.read_csv(r\"C:\\Users\\Luke Chesley\\jupyterlab/Datasets/titanic/train.csv\")\n",
    "df_test = pd.read_csv(r\"C:\\Users\\Luke Chesley\\jupyterlab/Datasets/titanic/test.csv\")"
   ]
  },
  {
   "cell_type": "code",
   "execution_count": 52,
   "id": "0ffac42a-be80-45db-9f02-3c3bb2d5f8e5",
   "metadata": {},
   "outputs": [],
   "source": [
    "df_train = df_train.drop([\"Ticket\", \"Cabin\"], axis=1)\n",
    "df_test = df_test.drop([\"Ticket\", \"Cabin\"], axis=1)"
   ]
  },
  {
   "cell_type": "code",
   "execution_count": 53,
   "id": "8a2b0001-d427-4ac4-a12f-4dd435e89389",
   "metadata": {},
   "outputs": [],
   "source": [
    "df_train[\"Age\"] = df_train[\"Age\"].fillna(df_train[\"Age\"].mean()).round(2).astype(\"int\")\n",
    "df_train[\"Sex\"] = df_train[\"Sex\"].replace([\"male\", \"female\"], [0, 1])\n",
    "df_train[\"Embarked\"] = (\n",
    "    df_train[\"Embarked\"].fillna(2).replace([\"C\", \"Q\", \"S\"], [0, 1, 2]).astype(\"int\")\n",
    ")\n",
    "df_train[\"Fare\"] = df_train[\"Fare\"].astype(\"int\")\n",
    "df_train[\"isalone\"] = np.where(\n",
    "    (df_train[\"SibSp\"] == 0) & (df_train[\"Parch\"] == 0), 1, 0\n",
    ")\n",
    "df_train[\"first_name\"] = df_train[\"Name\"].apply(get_first_name)\n",
    "df_train[\"first_name_len\"] = df_train[\"first_name\"].apply(len_of_string)\n",
    "df_train[\"last_name\"] = df_train[\"Name\"].apply(get_last_name)\n",
    "df_train[\"last_name_len\"] = df_train[\"last_name\"].apply(len_of_string)\n",
    "df_train[\"first_let_first_name\"] = df_train[\"first_name\"].apply(first_let_first_name)\n",
    "df_train[\"first_let_first_name\"] = df_train[\"first_let_first_name\"].apply(\n",
    "    letter_to_pos_in_alph\n",
    ")"
   ]
  },
  {
   "cell_type": "code",
   "execution_count": 54,
   "id": "4456b6e6-dc5e-4a84-b7fb-624c3f5d2fec",
   "metadata": {},
   "outputs": [],
   "source": [
    "df_test.loc[152, \"Fare\"] = df_test.query(f\"Pclass == 3\")[\"Fare\"].mean()\n",
    "df_test[\"Age\"] = df_test[\"Age\"].fillna(df_test[\"Age\"].mean()).round(2).astype(\"int\")\n",
    "df_test[\"Sex\"] = df_test[\"Sex\"].replace([\"male\", \"female\"], [0, 1])\n",
    "df_test[\"Embarked\"] = (\n",
    "    df_test[\"Embarked\"].fillna(2).replace([\"C\", \"Q\", \"S\"], [0, 1, 2]).astype(\"int\")\n",
    ")\n",
    "df_test[\"Fare\"] = df_test[\"Fare\"].astype(\"int\")\n",
    "df_test[\"isalone\"] = np.where((df_test[\"SibSp\"] == 0) & (df_test[\"Parch\"] == 0), 1, 0)\n",
    "df_test[\"first_name\"] = df_test[\"Name\"].apply(get_first_name)\n",
    "df_test[\"first_name_len\"] = df_test[\"first_name\"].apply(len_of_string)\n",
    "df_test[\"last_name\"] = df_test[\"Name\"].apply(get_last_name)\n",
    "df_test[\"last_name_len\"] = df_test[\"last_name\"].apply(len_of_string)\n",
    "df_test[\"first_let_first_name\"] = df_test[\"first_name\"].apply(first_let_first_name)\n",
    "df_test[\"first_let_first_name\"] = df_test[\"first_let_first_name\"].apply(\n",
    "    letter_to_pos_in_alph\n",
    ")"
   ]
  },
  {
   "cell_type": "code",
   "execution_count": 55,
   "id": "b06ea1c7-4d58-4fe7-9416-53ffb6a130e1",
   "metadata": {},
   "outputs": [],
   "source": [
    "df_dum_train = df_train[\n",
    "    [\n",
    "        \"Survived\",\n",
    "        \"Pclass\",\n",
    "        \"Sex\",\n",
    "        \"Age\",\n",
    "        \"SibSp\",\n",
    "        \"Parch\",\n",
    "        \"Fare\",\n",
    "        \"Embarked\",\n",
    "        \"isalone\",\n",
    "    ]\n",
    "]\n",
    "df_dum_test = df_test[\n",
    "    [\n",
    "        \"Pclass\",\n",
    "        \"Sex\",\n",
    "        \"Age\",\n",
    "        \"SibSp\",\n",
    "        \"Parch\",\n",
    "        \"Fare\",\n",
    "        \"Embarked\",\n",
    "        \"isalone\",\n",
    "    ]\n",
    "]"
   ]
  },
  {
   "cell_type": "code",
   "execution_count": 56,
   "id": "85db27a5-e11d-40ac-937f-6c1b4ffb73be",
   "metadata": {},
   "outputs": [],
   "source": [
    "class_dum_df_train = pd.get_dummies(df_train[\"Pclass\"], prefix=\"class\")\n",
    "embarked_dum_df_train = pd.get_dummies(df_train[\"Embarked\"], prefix=\"Embarked\")"
   ]
  },
  {
   "cell_type": "code",
   "execution_count": 57,
   "id": "d55b9a5b-ef49-4dac-b0db-e89c42ecc23a",
   "metadata": {},
   "outputs": [],
   "source": [
    "class_dum_df_test = pd.get_dummies(df_test[\"Pclass\"], prefix=\"class\")\n",
    "embarked_dum_df_test = pd.get_dummies(df_test[\"Embarked\"], prefix=\"Embarked\")"
   ]
  },
  {
   "cell_type": "code",
   "execution_count": 58,
   "id": "08b55897-82b2-4042-865f-5017e00b3771",
   "metadata": {},
   "outputs": [],
   "source": [
    "df_dum_train = pd.concat([df_dum_train, class_dum_df_train], axis=1)\n",
    "df_dum_train = pd.concat([df_dum_train, embarked_dum_df_train], axis=1)\n",
    "df_dum_train = df_dum_train.drop([\"Pclass\", \"Embarked\"], axis=1)"
   ]
  },
  {
   "cell_type": "code",
   "execution_count": 59,
   "id": "7973c01f-ad13-4491-9f56-99a745372573",
   "metadata": {},
   "outputs": [],
   "source": [
    "df_dum_test = pd.concat([df_dum_test, class_dum_df_test], axis=1)\n",
    "df_dum_test = pd.concat([df_dum_test, embarked_dum_df_test], axis=1)\n",
    "df_dum_test = df_dum_test.drop([\"Pclass\", \"Embarked\"], axis=1)"
   ]
  },
  {
   "cell_type": "code",
   "execution_count": 60,
   "id": "2c1b97e4-bb3b-4340-bdaf-d29d5dfea01a",
   "metadata": {},
   "outputs": [],
   "source": [
    "scaler = StandardScaler()\n",
    "df_dum_scaled_train = pd.DataFrame(\n",
    "    scaler.fit_transform(df_dum_train.drop(\"Survived\", axis=1)),\n",
    "    columns=df_dum_train.drop(\"Survived\", axis=1).columns,\n",
    ")\n",
    "df_dum_scaled_test = pd.DataFrame(\n",
    "    scaler.fit_transform(df_dum_test),\n",
    "    columns=df_dum_test.columns,\n",
    ")"
   ]
  },
  {
   "cell_type": "code",
   "execution_count": 61,
   "id": "67dfc6a4-3468-4a33-9fc7-895ab44a6bec",
   "metadata": {},
   "outputs": [],
   "source": [
    "from sklearn.svm import SVC"
   ]
  },
  {
   "cell_type": "code",
   "execution_count": 62,
   "id": "6086786a-e6f6-4125-bfcc-ed425ab1e95e",
   "metadata": {},
   "outputs": [],
   "source": [
    "svc = SVC(C=1.5, probability=True)"
   ]
  },
  {
   "cell_type": "code",
   "execution_count": 63,
   "id": "eb484498-14cf-41a5-b13e-788e5cef5d6a",
   "metadata": {},
   "outputs": [
    {
     "data": {
      "text/html": [
       "<style>#sk-container-id-3 {color: black;background-color: white;}#sk-container-id-3 pre{padding: 0;}#sk-container-id-3 div.sk-toggleable {background-color: white;}#sk-container-id-3 label.sk-toggleable__label {cursor: pointer;display: block;width: 100%;margin-bottom: 0;padding: 0.3em;box-sizing: border-box;text-align: center;}#sk-container-id-3 label.sk-toggleable__label-arrow:before {content: \"▸\";float: left;margin-right: 0.25em;color: #696969;}#sk-container-id-3 label.sk-toggleable__label-arrow:hover:before {color: black;}#sk-container-id-3 div.sk-estimator:hover label.sk-toggleable__label-arrow:before {color: black;}#sk-container-id-3 div.sk-toggleable__content {max-height: 0;max-width: 0;overflow: hidden;text-align: left;background-color: #f0f8ff;}#sk-container-id-3 div.sk-toggleable__content pre {margin: 0.2em;color: black;border-radius: 0.25em;background-color: #f0f8ff;}#sk-container-id-3 input.sk-toggleable__control:checked~div.sk-toggleable__content {max-height: 200px;max-width: 100%;overflow: auto;}#sk-container-id-3 input.sk-toggleable__control:checked~label.sk-toggleable__label-arrow:before {content: \"▾\";}#sk-container-id-3 div.sk-estimator input.sk-toggleable__control:checked~label.sk-toggleable__label {background-color: #d4ebff;}#sk-container-id-3 div.sk-label input.sk-toggleable__control:checked~label.sk-toggleable__label {background-color: #d4ebff;}#sk-container-id-3 input.sk-hidden--visually {border: 0;clip: rect(1px 1px 1px 1px);clip: rect(1px, 1px, 1px, 1px);height: 1px;margin: -1px;overflow: hidden;padding: 0;position: absolute;width: 1px;}#sk-container-id-3 div.sk-estimator {font-family: monospace;background-color: #f0f8ff;border: 1px dotted black;border-radius: 0.25em;box-sizing: border-box;margin-bottom: 0.5em;}#sk-container-id-3 div.sk-estimator:hover {background-color: #d4ebff;}#sk-container-id-3 div.sk-parallel-item::after {content: \"\";width: 100%;border-bottom: 1px solid gray;flex-grow: 1;}#sk-container-id-3 div.sk-label:hover label.sk-toggleable__label {background-color: #d4ebff;}#sk-container-id-3 div.sk-serial::before {content: \"\";position: absolute;border-left: 1px solid gray;box-sizing: border-box;top: 0;bottom: 0;left: 50%;z-index: 0;}#sk-container-id-3 div.sk-serial {display: flex;flex-direction: column;align-items: center;background-color: white;padding-right: 0.2em;padding-left: 0.2em;position: relative;}#sk-container-id-3 div.sk-item {position: relative;z-index: 1;}#sk-container-id-3 div.sk-parallel {display: flex;align-items: stretch;justify-content: center;background-color: white;position: relative;}#sk-container-id-3 div.sk-item::before, #sk-container-id-3 div.sk-parallel-item::before {content: \"\";position: absolute;border-left: 1px solid gray;box-sizing: border-box;top: 0;bottom: 0;left: 50%;z-index: -1;}#sk-container-id-3 div.sk-parallel-item {display: flex;flex-direction: column;z-index: 1;position: relative;background-color: white;}#sk-container-id-3 div.sk-parallel-item:first-child::after {align-self: flex-end;width: 50%;}#sk-container-id-3 div.sk-parallel-item:last-child::after {align-self: flex-start;width: 50%;}#sk-container-id-3 div.sk-parallel-item:only-child::after {width: 0;}#sk-container-id-3 div.sk-dashed-wrapped {border: 1px dashed gray;margin: 0 0.4em 0.5em 0.4em;box-sizing: border-box;padding-bottom: 0.4em;background-color: white;}#sk-container-id-3 div.sk-label label {font-family: monospace;font-weight: bold;display: inline-block;line-height: 1.2em;}#sk-container-id-3 div.sk-label-container {text-align: center;}#sk-container-id-3 div.sk-container {/* jupyter's `normalize.less` sets `[hidden] { display: none; }` but bootstrap.min.css set `[hidden] { display: none !important; }` so we also need the `!important` here to be able to override the default hidden behavior on the sphinx rendered scikit-learn.org. See: https://github.com/scikit-learn/scikit-learn/issues/21755 */display: inline-block !important;position: relative;}#sk-container-id-3 div.sk-text-repr-fallback {display: none;}</style><div id=\"sk-container-id-3\" class=\"sk-top-container\"><div class=\"sk-text-repr-fallback\"><pre>SVC(C=1.5, probability=True)</pre><b>In a Jupyter environment, please rerun this cell to show the HTML representation or trust the notebook. <br />On GitHub, the HTML representation is unable to render, please try loading this page with nbviewer.org.</b></div><div class=\"sk-container\" hidden><div class=\"sk-item\"><div class=\"sk-estimator sk-toggleable\"><input class=\"sk-toggleable__control sk-hidden--visually\" id=\"sk-estimator-id-3\" type=\"checkbox\" checked><label for=\"sk-estimator-id-3\" class=\"sk-toggleable__label sk-toggleable__label-arrow\">SVC</label><div class=\"sk-toggleable__content\"><pre>SVC(C=1.5, probability=True)</pre></div></div></div></div></div>"
      ],
      "text/plain": [
       "SVC(C=1.5, probability=True)"
      ]
     },
     "execution_count": 63,
     "metadata": {},
     "output_type": "execute_result"
    }
   ],
   "source": [
    "svc.fit(df_dum_scaled_train, df_dum_train[\"Survived\"])"
   ]
  },
  {
   "cell_type": "code",
   "execution_count": 64,
   "id": "f4bdbf93-7e49-4d91-b3b2-fc5080c05b76",
   "metadata": {},
   "outputs": [
    {
     "data": {
      "text/html": [
       "<div>\n",
       "<style scoped>\n",
       "    .dataframe tbody tr th:only-of-type {\n",
       "        vertical-align: middle;\n",
       "    }\n",
       "\n",
       "    .dataframe tbody tr th {\n",
       "        vertical-align: top;\n",
       "    }\n",
       "\n",
       "    .dataframe thead th {\n",
       "        text-align: right;\n",
       "    }\n",
       "</style>\n",
       "<table border=\"1\" class=\"dataframe\">\n",
       "  <thead>\n",
       "    <tr style=\"text-align: right;\">\n",
       "      <th></th>\n",
       "      <th>Sex</th>\n",
       "      <th>Age</th>\n",
       "      <th>SibSp</th>\n",
       "      <th>Parch</th>\n",
       "      <th>Fare</th>\n",
       "      <th>isalone</th>\n",
       "      <th>class_1</th>\n",
       "      <th>class_2</th>\n",
       "      <th>class_3</th>\n",
       "      <th>Embarked_0</th>\n",
       "      <th>Embarked_1</th>\n",
       "      <th>Embarked_2</th>\n",
       "    </tr>\n",
       "  </thead>\n",
       "  <tbody>\n",
       "    <tr>\n",
       "      <th>0</th>\n",
       "      <td>-0.737695</td>\n",
       "      <td>-0.580044</td>\n",
       "      <td>0.432793</td>\n",
       "      <td>-0.473674</td>\n",
       "      <td>-0.498948</td>\n",
       "      <td>-1.231645</td>\n",
       "      <td>-0.565685</td>\n",
       "      <td>-0.510152</td>\n",
       "      <td>0.902587</td>\n",
       "      <td>-0.482043</td>\n",
       "      <td>-0.307562</td>\n",
       "      <td>0.615838</td>\n",
       "    </tr>\n",
       "    <tr>\n",
       "      <th>1</th>\n",
       "      <td>1.355574</td>\n",
       "      <td>0.650112</td>\n",
       "      <td>0.432793</td>\n",
       "      <td>-0.473674</td>\n",
       "      <td>0.789405</td>\n",
       "      <td>-1.231645</td>\n",
       "      <td>1.767767</td>\n",
       "      <td>-0.510152</td>\n",
       "      <td>-1.107926</td>\n",
       "      <td>2.074505</td>\n",
       "      <td>-0.307562</td>\n",
       "      <td>-1.623803</td>\n",
       "    </tr>\n",
       "    <tr>\n",
       "      <th>2</th>\n",
       "      <td>1.355574</td>\n",
       "      <td>-0.272505</td>\n",
       "      <td>-0.474545</td>\n",
       "      <td>-0.473674</td>\n",
       "      <td>-0.498948</td>\n",
       "      <td>0.811922</td>\n",
       "      <td>-0.565685</td>\n",
       "      <td>-0.510152</td>\n",
       "      <td>0.902587</td>\n",
       "      <td>-0.482043</td>\n",
       "      <td>-0.307562</td>\n",
       "      <td>0.615838</td>\n",
       "    </tr>\n",
       "    <tr>\n",
       "      <th>3</th>\n",
       "      <td>1.355574</td>\n",
       "      <td>0.419458</td>\n",
       "      <td>0.432793</td>\n",
       "      <td>-0.473674</td>\n",
       "      <td>0.427056</td>\n",
       "      <td>-1.231645</td>\n",
       "      <td>1.767767</td>\n",
       "      <td>-0.510152</td>\n",
       "      <td>-1.107926</td>\n",
       "      <td>-0.482043</td>\n",
       "      <td>-0.307562</td>\n",
       "      <td>0.615838</td>\n",
       "    </tr>\n",
       "    <tr>\n",
       "      <th>4</th>\n",
       "      <td>-0.737695</td>\n",
       "      <td>0.419458</td>\n",
       "      <td>-0.474545</td>\n",
       "      <td>-0.473674</td>\n",
       "      <td>-0.478817</td>\n",
       "      <td>0.811922</td>\n",
       "      <td>-0.565685</td>\n",
       "      <td>-0.510152</td>\n",
       "      <td>0.902587</td>\n",
       "      <td>-0.482043</td>\n",
       "      <td>-0.307562</td>\n",
       "      <td>0.615838</td>\n",
       "    </tr>\n",
       "    <tr>\n",
       "      <th>...</th>\n",
       "      <td>...</td>\n",
       "      <td>...</td>\n",
       "      <td>...</td>\n",
       "      <td>...</td>\n",
       "      <td>...</td>\n",
       "      <td>...</td>\n",
       "      <td>...</td>\n",
       "      <td>...</td>\n",
       "      <td>...</td>\n",
       "      <td>...</td>\n",
       "      <td>...</td>\n",
       "      <td>...</td>\n",
       "    </tr>\n",
       "    <tr>\n",
       "      <th>886</th>\n",
       "      <td>-0.737695</td>\n",
       "      <td>-0.195620</td>\n",
       "      <td>-0.474545</td>\n",
       "      <td>-0.473674</td>\n",
       "      <td>-0.378164</td>\n",
       "      <td>0.811922</td>\n",
       "      <td>-0.565685</td>\n",
       "      <td>1.960202</td>\n",
       "      <td>-1.107926</td>\n",
       "      <td>-0.482043</td>\n",
       "      <td>-0.307562</td>\n",
       "      <td>0.615838</td>\n",
       "    </tr>\n",
       "    <tr>\n",
       "      <th>887</th>\n",
       "      <td>1.355574</td>\n",
       "      <td>-0.810699</td>\n",
       "      <td>-0.474545</td>\n",
       "      <td>-0.473674</td>\n",
       "      <td>-0.035946</td>\n",
       "      <td>0.811922</td>\n",
       "      <td>1.767767</td>\n",
       "      <td>-0.510152</td>\n",
       "      <td>-1.107926</td>\n",
       "      <td>-0.482043</td>\n",
       "      <td>-0.307562</td>\n",
       "      <td>0.615838</td>\n",
       "    </tr>\n",
       "    <tr>\n",
       "      <th>888</th>\n",
       "      <td>1.355574</td>\n",
       "      <td>-0.041851</td>\n",
       "      <td>0.432793</td>\n",
       "      <td>2.008933</td>\n",
       "      <td>-0.176859</td>\n",
       "      <td>-1.231645</td>\n",
       "      <td>-0.565685</td>\n",
       "      <td>-0.510152</td>\n",
       "      <td>0.902587</td>\n",
       "      <td>-0.482043</td>\n",
       "      <td>-0.307562</td>\n",
       "      <td>0.615838</td>\n",
       "    </tr>\n",
       "    <tr>\n",
       "      <th>889</th>\n",
       "      <td>-0.737695</td>\n",
       "      <td>-0.272505</td>\n",
       "      <td>-0.474545</td>\n",
       "      <td>-0.473674</td>\n",
       "      <td>-0.035946</td>\n",
       "      <td>0.811922</td>\n",
       "      <td>1.767767</td>\n",
       "      <td>-0.510152</td>\n",
       "      <td>-1.107926</td>\n",
       "      <td>2.074505</td>\n",
       "      <td>-0.307562</td>\n",
       "      <td>-1.623803</td>\n",
       "    </tr>\n",
       "    <tr>\n",
       "      <th>890</th>\n",
       "      <td>-0.737695</td>\n",
       "      <td>0.188804</td>\n",
       "      <td>-0.474545</td>\n",
       "      <td>-0.473674</td>\n",
       "      <td>-0.498948</td>\n",
       "      <td>0.811922</td>\n",
       "      <td>-0.565685</td>\n",
       "      <td>-0.510152</td>\n",
       "      <td>0.902587</td>\n",
       "      <td>-0.482043</td>\n",
       "      <td>3.251373</td>\n",
       "      <td>-1.623803</td>\n",
       "    </tr>\n",
       "  </tbody>\n",
       "</table>\n",
       "<p>891 rows × 12 columns</p>\n",
       "</div>"
      ],
      "text/plain": [
       "          Sex       Age     SibSp     Parch      Fare   isalone   class_1  \\\n",
       "0   -0.737695 -0.580044  0.432793 -0.473674 -0.498948 -1.231645 -0.565685   \n",
       "1    1.355574  0.650112  0.432793 -0.473674  0.789405 -1.231645  1.767767   \n",
       "2    1.355574 -0.272505 -0.474545 -0.473674 -0.498948  0.811922 -0.565685   \n",
       "3    1.355574  0.419458  0.432793 -0.473674  0.427056 -1.231645  1.767767   \n",
       "4   -0.737695  0.419458 -0.474545 -0.473674 -0.478817  0.811922 -0.565685   \n",
       "..        ...       ...       ...       ...       ...       ...       ...   \n",
       "886 -0.737695 -0.195620 -0.474545 -0.473674 -0.378164  0.811922 -0.565685   \n",
       "887  1.355574 -0.810699 -0.474545 -0.473674 -0.035946  0.811922  1.767767   \n",
       "888  1.355574 -0.041851  0.432793  2.008933 -0.176859 -1.231645 -0.565685   \n",
       "889 -0.737695 -0.272505 -0.474545 -0.473674 -0.035946  0.811922  1.767767   \n",
       "890 -0.737695  0.188804 -0.474545 -0.473674 -0.498948  0.811922 -0.565685   \n",
       "\n",
       "      class_2   class_3  Embarked_0  Embarked_1  Embarked_2  \n",
       "0   -0.510152  0.902587   -0.482043   -0.307562    0.615838  \n",
       "1   -0.510152 -1.107926    2.074505   -0.307562   -1.623803  \n",
       "2   -0.510152  0.902587   -0.482043   -0.307562    0.615838  \n",
       "3   -0.510152 -1.107926   -0.482043   -0.307562    0.615838  \n",
       "4   -0.510152  0.902587   -0.482043   -0.307562    0.615838  \n",
       "..        ...       ...         ...         ...         ...  \n",
       "886  1.960202 -1.107926   -0.482043   -0.307562    0.615838  \n",
       "887 -0.510152 -1.107926   -0.482043   -0.307562    0.615838  \n",
       "888 -0.510152  0.902587   -0.482043   -0.307562    0.615838  \n",
       "889 -0.510152 -1.107926    2.074505   -0.307562   -1.623803  \n",
       "890 -0.510152  0.902587   -0.482043    3.251373   -1.623803  \n",
       "\n",
       "[891 rows x 12 columns]"
      ]
     },
     "execution_count": 64,
     "metadata": {},
     "output_type": "execute_result"
    }
   ],
   "source": [
    "df_dum_scaled_train"
   ]
  },
  {
   "cell_type": "code",
   "execution_count": 65,
   "id": "ffd9ac40-baa1-45a7-8944-b1a043007f20",
   "metadata": {},
   "outputs": [
    {
     "data": {
      "text/html": [
       "<div>\n",
       "<style scoped>\n",
       "    .dataframe tbody tr th:only-of-type {\n",
       "        vertical-align: middle;\n",
       "    }\n",
       "\n",
       "    .dataframe tbody tr th {\n",
       "        vertical-align: top;\n",
       "    }\n",
       "\n",
       "    .dataframe thead th {\n",
       "        text-align: right;\n",
       "    }\n",
       "</style>\n",
       "<table border=\"1\" class=\"dataframe\">\n",
       "  <thead>\n",
       "    <tr style=\"text-align: right;\">\n",
       "      <th></th>\n",
       "      <th>Sex</th>\n",
       "      <th>Age</th>\n",
       "      <th>SibSp</th>\n",
       "      <th>Parch</th>\n",
       "      <th>Fare</th>\n",
       "      <th>isalone</th>\n",
       "      <th>class_1</th>\n",
       "      <th>class_2</th>\n",
       "      <th>class_3</th>\n",
       "      <th>Embarked_0</th>\n",
       "      <th>Embarked_1</th>\n",
       "      <th>Embarked_2</th>\n",
       "    </tr>\n",
       "  </thead>\n",
       "  <tbody>\n",
       "    <tr>\n",
       "      <th>0</th>\n",
       "      <td>-0.755929</td>\n",
       "      <td>0.301339</td>\n",
       "      <td>-0.499470</td>\n",
       "      <td>-0.400248</td>\n",
       "      <td>-0.504190</td>\n",
       "      <td>0.807573</td>\n",
       "      <td>-0.586559</td>\n",
       "      <td>-0.534933</td>\n",
       "      <td>0.957826</td>\n",
       "      <td>-0.568142</td>\n",
       "      <td>2.843757</td>\n",
       "      <td>-1.350676</td>\n",
       "    </tr>\n",
       "    <tr>\n",
       "      <th>1</th>\n",
       "      <td>1.322876</td>\n",
       "      <td>1.329905</td>\n",
       "      <td>0.616992</td>\n",
       "      <td>-0.400248</td>\n",
       "      <td>-0.504190</td>\n",
       "      <td>-1.238278</td>\n",
       "      <td>-0.586559</td>\n",
       "      <td>-0.534933</td>\n",
       "      <td>0.957826</td>\n",
       "      <td>-0.568142</td>\n",
       "      <td>-0.351647</td>\n",
       "      <td>0.740370</td>\n",
       "    </tr>\n",
       "    <tr>\n",
       "      <th>2</th>\n",
       "      <td>-0.755929</td>\n",
       "      <td>2.516711</td>\n",
       "      <td>-0.499470</td>\n",
       "      <td>-0.400248</td>\n",
       "      <td>-0.468341</td>\n",
       "      <td>0.807573</td>\n",
       "      <td>-0.586559</td>\n",
       "      <td>1.869391</td>\n",
       "      <td>-1.044031</td>\n",
       "      <td>-0.568142</td>\n",
       "      <td>2.843757</td>\n",
       "      <td>-1.350676</td>\n",
       "    </tr>\n",
       "    <tr>\n",
       "      <th>3</th>\n",
       "      <td>-0.755929</td>\n",
       "      <td>-0.252504</td>\n",
       "      <td>-0.499470</td>\n",
       "      <td>-0.400248</td>\n",
       "      <td>-0.486265</td>\n",
       "      <td>0.807573</td>\n",
       "      <td>-0.586559</td>\n",
       "      <td>-0.534933</td>\n",
       "      <td>0.957826</td>\n",
       "      <td>-0.568142</td>\n",
       "      <td>-0.351647</td>\n",
       "      <td>0.740370</td>\n",
       "    </tr>\n",
       "    <tr>\n",
       "      <th>4</th>\n",
       "      <td>1.322876</td>\n",
       "      <td>-0.648106</td>\n",
       "      <td>0.616992</td>\n",
       "      <td>0.619896</td>\n",
       "      <td>-0.414569</td>\n",
       "      <td>-1.238278</td>\n",
       "      <td>-0.586559</td>\n",
       "      <td>-0.534933</td>\n",
       "      <td>0.957826</td>\n",
       "      <td>-0.568142</td>\n",
       "      <td>-0.351647</td>\n",
       "      <td>0.740370</td>\n",
       "    </tr>\n",
       "    <tr>\n",
       "      <th>...</th>\n",
       "      <td>...</td>\n",
       "      <td>...</td>\n",
       "      <td>...</td>\n",
       "      <td>...</td>\n",
       "      <td>...</td>\n",
       "      <td>...</td>\n",
       "      <td>...</td>\n",
       "      <td>...</td>\n",
       "      <td>...</td>\n",
       "      <td>...</td>\n",
       "      <td>...</td>\n",
       "      <td>...</td>\n",
       "    </tr>\n",
       "    <tr>\n",
       "      <th>413</th>\n",
       "      <td>-0.755929</td>\n",
       "      <td>-0.015143</td>\n",
       "      <td>-0.499470</td>\n",
       "      <td>-0.400248</td>\n",
       "      <td>-0.486265</td>\n",
       "      <td>0.807573</td>\n",
       "      <td>-0.586559</td>\n",
       "      <td>-0.534933</td>\n",
       "      <td>0.957826</td>\n",
       "      <td>-0.568142</td>\n",
       "      <td>-0.351647</td>\n",
       "      <td>0.740370</td>\n",
       "    </tr>\n",
       "    <tr>\n",
       "      <th>414</th>\n",
       "      <td>1.322876</td>\n",
       "      <td>0.696941</td>\n",
       "      <td>-0.499470</td>\n",
       "      <td>-0.400248</td>\n",
       "      <td>1.306142</td>\n",
       "      <td>0.807573</td>\n",
       "      <td>1.704858</td>\n",
       "      <td>-0.534933</td>\n",
       "      <td>-1.044031</td>\n",
       "      <td>1.760125</td>\n",
       "      <td>-0.351647</td>\n",
       "      <td>-1.350676</td>\n",
       "    </tr>\n",
       "    <tr>\n",
       "      <th>415</th>\n",
       "      <td>-0.755929</td>\n",
       "      <td>0.617821</td>\n",
       "      <td>-0.499470</td>\n",
       "      <td>-0.400248</td>\n",
       "      <td>-0.504190</td>\n",
       "      <td>0.807573</td>\n",
       "      <td>-0.586559</td>\n",
       "      <td>-0.534933</td>\n",
       "      <td>0.957826</td>\n",
       "      <td>-0.568142</td>\n",
       "      <td>-0.351647</td>\n",
       "      <td>0.740370</td>\n",
       "    </tr>\n",
       "    <tr>\n",
       "      <th>416</th>\n",
       "      <td>-0.755929</td>\n",
       "      <td>-0.015143</td>\n",
       "      <td>-0.499470</td>\n",
       "      <td>-0.400248</td>\n",
       "      <td>-0.486265</td>\n",
       "      <td>0.807573</td>\n",
       "      <td>-0.586559</td>\n",
       "      <td>-0.534933</td>\n",
       "      <td>0.957826</td>\n",
       "      <td>-0.568142</td>\n",
       "      <td>-0.351647</td>\n",
       "      <td>0.740370</td>\n",
       "    </tr>\n",
       "    <tr>\n",
       "      <th>417</th>\n",
       "      <td>-0.755929</td>\n",
       "      <td>-0.015143</td>\n",
       "      <td>0.616992</td>\n",
       "      <td>0.619896</td>\n",
       "      <td>-0.235328</td>\n",
       "      <td>-1.238278</td>\n",
       "      <td>-0.586559</td>\n",
       "      <td>-0.534933</td>\n",
       "      <td>0.957826</td>\n",
       "      <td>1.760125</td>\n",
       "      <td>-0.351647</td>\n",
       "      <td>-1.350676</td>\n",
       "    </tr>\n",
       "  </tbody>\n",
       "</table>\n",
       "<p>418 rows × 12 columns</p>\n",
       "</div>"
      ],
      "text/plain": [
       "          Sex       Age     SibSp     Parch      Fare   isalone   class_1  \\\n",
       "0   -0.755929  0.301339 -0.499470 -0.400248 -0.504190  0.807573 -0.586559   \n",
       "1    1.322876  1.329905  0.616992 -0.400248 -0.504190 -1.238278 -0.586559   \n",
       "2   -0.755929  2.516711 -0.499470 -0.400248 -0.468341  0.807573 -0.586559   \n",
       "3   -0.755929 -0.252504 -0.499470 -0.400248 -0.486265  0.807573 -0.586559   \n",
       "4    1.322876 -0.648106  0.616992  0.619896 -0.414569 -1.238278 -0.586559   \n",
       "..        ...       ...       ...       ...       ...       ...       ...   \n",
       "413 -0.755929 -0.015143 -0.499470 -0.400248 -0.486265  0.807573 -0.586559   \n",
       "414  1.322876  0.696941 -0.499470 -0.400248  1.306142  0.807573  1.704858   \n",
       "415 -0.755929  0.617821 -0.499470 -0.400248 -0.504190  0.807573 -0.586559   \n",
       "416 -0.755929 -0.015143 -0.499470 -0.400248 -0.486265  0.807573 -0.586559   \n",
       "417 -0.755929 -0.015143  0.616992  0.619896 -0.235328 -1.238278 -0.586559   \n",
       "\n",
       "      class_2   class_3  Embarked_0  Embarked_1  Embarked_2  \n",
       "0   -0.534933  0.957826   -0.568142    2.843757   -1.350676  \n",
       "1   -0.534933  0.957826   -0.568142   -0.351647    0.740370  \n",
       "2    1.869391 -1.044031   -0.568142    2.843757   -1.350676  \n",
       "3   -0.534933  0.957826   -0.568142   -0.351647    0.740370  \n",
       "4   -0.534933  0.957826   -0.568142   -0.351647    0.740370  \n",
       "..        ...       ...         ...         ...         ...  \n",
       "413 -0.534933  0.957826   -0.568142   -0.351647    0.740370  \n",
       "414 -0.534933 -1.044031    1.760125   -0.351647   -1.350676  \n",
       "415 -0.534933  0.957826   -0.568142   -0.351647    0.740370  \n",
       "416 -0.534933  0.957826   -0.568142   -0.351647    0.740370  \n",
       "417 -0.534933  0.957826    1.760125   -0.351647   -1.350676  \n",
       "\n",
       "[418 rows x 12 columns]"
      ]
     },
     "execution_count": 65,
     "metadata": {},
     "output_type": "execute_result"
    }
   ],
   "source": [
    "df_dum_scaled_test"
   ]
  },
  {
   "cell_type": "code",
   "execution_count": 89,
   "id": "68c42adb-6a3e-4c56-9e97-c19de34fbfbd",
   "metadata": {},
   "outputs": [],
   "source": [
    "svc_results = svc.predict(df_dum_scaled_test)\n",
    "svc_results = pd.DataFrame(svc_results, columns=[\"Survived\"])\n",
    "svc_results[\"PassengerId\"] = df_test[\"PassengerId\"]"
   ]
  },
  {
   "cell_type": "code",
   "execution_count": 92,
   "id": "6b44c200-d20d-494b-ae35-b95eac8258fa",
   "metadata": {},
   "outputs": [],
   "source": [
    "svc_results = svc_results[[\"PassengerId\", \"Survived\"]]"
   ]
  },
  {
   "cell_type": "code",
   "execution_count": 93,
   "id": "0228eb53-b56b-4d56-a8b6-dc722277904a",
   "metadata": {},
   "outputs": [],
   "source": [
    "path = r\"C:\\Users\\Luke Chesley\\jupyterlab/Datasets/titanic/\""
   ]
  },
  {
   "cell_type": "code",
   "execution_count": 94,
   "id": "7bdb61ad-ed65-459a-9ab5-cae36871906b",
   "metadata": {},
   "outputs": [],
   "source": [
    "svc_results.to_csv(path + \"titanic_sub_6_svc.csv\", index=False, encoding=\"utf-8\")"
   ]
  },
  {
   "cell_type": "code",
   "execution_count": 95,
   "id": "d067ac47-9e29-473c-9632-1285718d6cb7",
   "metadata": {},
   "outputs": [
    {
     "data": {
      "text/html": [
       "<div>\n",
       "<style scoped>\n",
       "    .dataframe tbody tr th:only-of-type {\n",
       "        vertical-align: middle;\n",
       "    }\n",
       "\n",
       "    .dataframe tbody tr th {\n",
       "        vertical-align: top;\n",
       "    }\n",
       "\n",
       "    .dataframe thead th {\n",
       "        text-align: right;\n",
       "    }\n",
       "</style>\n",
       "<table border=\"1\" class=\"dataframe\">\n",
       "  <thead>\n",
       "    <tr style=\"text-align: right;\">\n",
       "      <th></th>\n",
       "      <th>PassengerId</th>\n",
       "      <th>Survived</th>\n",
       "    </tr>\n",
       "  </thead>\n",
       "  <tbody>\n",
       "    <tr>\n",
       "      <th>0</th>\n",
       "      <td>892</td>\n",
       "      <td>0</td>\n",
       "    </tr>\n",
       "    <tr>\n",
       "      <th>1</th>\n",
       "      <td>893</td>\n",
       "      <td>0</td>\n",
       "    </tr>\n",
       "    <tr>\n",
       "      <th>2</th>\n",
       "      <td>894</td>\n",
       "      <td>0</td>\n",
       "    </tr>\n",
       "    <tr>\n",
       "      <th>3</th>\n",
       "      <td>895</td>\n",
       "      <td>0</td>\n",
       "    </tr>\n",
       "    <tr>\n",
       "      <th>4</th>\n",
       "      <td>896</td>\n",
       "      <td>0</td>\n",
       "    </tr>\n",
       "    <tr>\n",
       "      <th>...</th>\n",
       "      <td>...</td>\n",
       "      <td>...</td>\n",
       "    </tr>\n",
       "    <tr>\n",
       "      <th>413</th>\n",
       "      <td>1305</td>\n",
       "      <td>0</td>\n",
       "    </tr>\n",
       "    <tr>\n",
       "      <th>414</th>\n",
       "      <td>1306</td>\n",
       "      <td>1</td>\n",
       "    </tr>\n",
       "    <tr>\n",
       "      <th>415</th>\n",
       "      <td>1307</td>\n",
       "      <td>0</td>\n",
       "    </tr>\n",
       "    <tr>\n",
       "      <th>416</th>\n",
       "      <td>1308</td>\n",
       "      <td>0</td>\n",
       "    </tr>\n",
       "    <tr>\n",
       "      <th>417</th>\n",
       "      <td>1309</td>\n",
       "      <td>0</td>\n",
       "    </tr>\n",
       "  </tbody>\n",
       "</table>\n",
       "<p>418 rows × 2 columns</p>\n",
       "</div>"
      ],
      "text/plain": [
       "     PassengerId  Survived\n",
       "0            892         0\n",
       "1            893         0\n",
       "2            894         0\n",
       "3            895         0\n",
       "4            896         0\n",
       "..           ...       ...\n",
       "413         1305         0\n",
       "414         1306         1\n",
       "415         1307         0\n",
       "416         1308         0\n",
       "417         1309         0\n",
       "\n",
       "[418 rows x 2 columns]"
      ]
     },
     "execution_count": 95,
     "metadata": {},
     "output_type": "execute_result"
    }
   ],
   "source": [
    "svc_results"
   ]
  },
  {
   "cell_type": "code",
   "execution_count": null,
   "id": "17311438-a6e0-4d09-aa4a-ce5f685bbb93",
   "metadata": {},
   "outputs": [],
   "source": []
  }
 ],
 "metadata": {
  "kernelspec": {
   "display_name": "Python 3 (ipykernel)",
   "language": "python",
   "name": "python3"
  },
  "language_info": {
   "codemirror_mode": {
    "name": "ipython",
    "version": 3
   },
   "file_extension": ".py",
   "mimetype": "text/x-python",
   "name": "python",
   "nbconvert_exporter": "python",
   "pygments_lexer": "ipython3",
   "version": "3.10.6"
  }
 },
 "nbformat": 4,
 "nbformat_minor": 5
}
